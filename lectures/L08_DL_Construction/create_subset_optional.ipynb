{
 "cells": [
  {
   "cell_type": "markdown",
   "id": "4f52c80872965594",
   "metadata": {},
   "source": [
    "# Creating a Subset from a Larger Dataset\n",
    "\n",
    "This notebook demonstrates how to extract a smaller subset of images and their corresponding annotation files from a larger dataset contained in a ZIP file. \n",
    "\n",
    "The assumed structure of the ZIP file is:\n",
    "\n",
    "```\n",
    "LargeDataset.zip\n",
    " ├── images/\n",
    " │    ├── image_001.jpg\n",
    " │    ├── image_002.jpg\n",
    " │    └── ...\n",
    " └── annotations/\n",
    "      ├── image_001.txt\n",
    "      ├── image_002.txt\n",
    "      └── ...\n",
    "```\n",
    "\n",
    "We will create a subset with a specified number of images (e.g., 1000) and copy both the images and their corresponding annotation files into a new folder structure for further experimentation."
   ]
  },
  {
   "cell_type": "markdown",
   "id": "c9ec0101353cbdc0",
   "metadata": {},
   "source": [
    "## 1. Setup & Unzipping the Dataset\n",
    "\n",
    "Place your ZIP file (e.g., `hard-hat-detection.zip`) in the current working directory. Then, run the following code to unzip it."
   ]
  },
  {
   "cell_type": "code",
   "execution_count": 1,
   "id": "1d82e2393ae6dfca",
   "metadata": {
    "is_executing": true
   },
   "outputs": [
    {
     "name": "stdout",
     "output_type": "stream",
     "text": [
      "Folder 'hard-hat-detection' already exists. Skipping unzipping.\n"
     ]
    }
   ],
   "source": [
    "import zipfile\n",
    "import os\n",
    "\n",
    "# Define the path to the zip file and the extraction folder\n",
    "zip_path = 'hard-hat-detection.zip'  # Change to your zip file name\n",
    "extract_folder = 'hard-hat-detection'\n",
    "\n",
    "# Check if the folder already exists\n",
    "if not os.path.exists(extract_folder):\n",
    "    with zipfile.ZipFile(zip_path, 'r') as zip_ref:\n",
    "        zip_ref.extractall(extract_folder)\n",
    "    print(f\"Dataset unzipped to '{extract_folder}'\")\n",
    "else:\n",
    "    print(f\"Folder '{extract_folder}' already exists. Skipping unzipping.\")"
   ]
  },
  {
   "cell_type": "markdown",
   "id": "236f184c77038476",
   "metadata": {},
   "source": [
    "## 2. List and Sample Images\n",
    "\n",
    "Next, we list all the image files in the `images/` folder and randomly select a specified number of them to form our subset. You can adjust the number of images (`sample_size`) as needed."
   ]
  },
  {
   "cell_type": "code",
   "execution_count": 2,
   "id": "adb005e7d444e347",
   "metadata": {},
   "outputs": [
    {
     "name": "stdout",
     "output_type": "stream",
     "text": [
      "Total images found: 5000\n",
      "Number of images in subset: 1000\n"
     ]
    }
   ],
   "source": [
    "import glob\n",
    "import random\n",
    "\n",
    "# Path to images folder\n",
    "images_folder = os.path.join(extract_folder, 'images')\n",
    "image_files = glob.glob(os.path.join(images_folder, '*.png'))  # Adjust extension if necessary\n",
    "print(f\"Total images found: {len(image_files)}\")\n",
    "\n",
    "# Set the sample size (number of images to select)\n",
    "sample_size = 1000  # Change this to the number you want in your subset\n",
    "\n",
    "# Ensure sample size does not exceed total available images\n",
    "sample_size = min(sample_size, len(image_files))\n",
    "\n",
    "# Randomly sample images\n",
    "sampled_images = random.sample(image_files, sample_size)\n",
    "print(f\"Number of images in subset: {len(sampled_images)}\")"
   ]
  },
  {
   "cell_type": "markdown",
   "id": "18067e8f79708aee",
   "metadata": {},
   "source": [
    "## 3. Copy Sampled Images and Annotations\n",
    "\n",
    "We now copy the sampled images and their corresponding annotation files (assumed to be in the `annotations/` folder with the same base filename) into a new folder structure.\n",
    "\n",
    "The new structure will look like this:\n",
    "\n",
    "```\n",
    "hard-hat-detection-1k/\n",
    " ├── images/\n",
    " └── annotations/\n",
    "```\n"
   ]
  },
  {
   "cell_type": "code",
   "execution_count": 3,
   "id": "6aa9dff0f0693ba6",
   "metadata": {},
   "outputs": [
    {
     "name": "stdout",
     "output_type": "stream",
     "text": [
      "Subset creation completed.\n"
     ]
    }
   ],
   "source": [
    "import shutil\n",
    "\n",
    "# Define output folders\n",
    "subset_folder = 'hard-hat-detection-1k'\n",
    "subset_images = os.path.join(subset_folder, 'images')\n",
    "subset_annotations = os.path.join(subset_folder, 'annotations')\n",
    "\n",
    "# Create the folders if they don't exist\n",
    "os.makedirs(subset_images, exist_ok=True)\n",
    "os.makedirs(subset_annotations, exist_ok=True)\n",
    "\n",
    "# Define annotations folder in the original dataset\n",
    "annotations_folder = os.path.join(extract_folder, 'annotations')\n",
    "\n",
    "# Loop through sampled images, copy each image and its annotation\n",
    "for img_path in sampled_images:\n",
    "    # Get the base filename without extension\n",
    "    base_name = os.path.splitext(os.path.basename(img_path))[0]\n",
    "    \n",
    "    # Define source and destination paths for image\n",
    "    dest_img_path = os.path.join(subset_images, os.path.basename(img_path))\n",
    "    shutil.copy(img_path, dest_img_path)\n",
    "    \n",
    "    # Define source annotation file (assuming .txt format)\n",
    "    annotation_file = os.path.join(annotations_folder, base_name + '.xml')\n",
    "    if os.path.exists(annotation_file):\n",
    "        dest_ann_path = os.path.join(subset_annotations, base_name + '.xml')\n",
    "        shutil.copy(annotation_file, dest_ann_path)\n",
    "    else:\n",
    "        print(f\"Annotation file not found for {base_name}\")\n",
    "\n",
    "print(\"Subset creation completed.\")"
   ]
  },
  {
   "cell_type": "markdown",
   "id": "4a442057900e1b4b",
   "metadata": {},
   "source": [
    "## 4. Verify the Subset\n",
    "\n",
    "Finally, let's verify that the subset folders contain the expected number of files."
   ]
  },
  {
   "cell_type": "code",
   "execution_count": 4,
   "id": "13bde2fe2779cc80",
   "metadata": {},
   "outputs": [
    {
     "name": "stdout",
     "output_type": "stream",
     "text": [
      "Subset images: 1000\n",
      "Subset annotations: 1000\n"
     ]
    }
   ],
   "source": [
    "subset_image_files = glob.glob(os.path.join(subset_images, '*.png'))\n",
    "subset_annotation_files = glob.glob(os.path.join(subset_annotations, '*.xml'))\n",
    "print(f\"Subset images: {len(subset_image_files)}\")\n",
    "print(f\"Subset annotations: {len(subset_annotation_files)}\")"
   ]
  },
  {
   "cell_type": "markdown",
   "id": "d6a158c08608e3fd",
   "metadata": {},
   "source": [
    "## 5. Conclusion\n",
    "\n",
    "You have now created a subset from a larger dataset with a total of sampled images and corresponding annotations copied into a new folder structure. \n",
    "\n",
    "This subset is now ready for further experiments, such as training an object detection model using YOLOv5."
   ]
  }
 ],
 "metadata": {
  "kernelspec": {
   "display_name": "Python 3 (ipykernel)",
   "language": "python",
   "name": "python3"
  },
  "language_info": {
   "codemirror_mode": {
    "name": "ipython",
    "version": 3
   },
   "file_extension": ".py",
   "mimetype": "text/x-python",
   "name": "python",
   "nbconvert_exporter": "python",
   "pygments_lexer": "ipython3",
   "version": "3.8.8"
  },
  "widgets": {
   "application/vnd.jupyter.widget-state+json": {
    "state": {},
    "version_major": 2,
    "version_minor": 0
   }
  }
 },
 "nbformat": 4,
 "nbformat_minor": 5
}
