{
 "cells": [
  {
   "cell_type": "markdown",
   "id": "11b806ab",
   "metadata": {},
   "source": [
    "# Generative AI in Construction\n",
    "\n",
    "### Hands-on Practice for Beginners"
   ]
  },
  {
   "cell_type": "markdown",
   "id": "cd0e5b6a",
   "metadata": {},
   "source": [
    "## 1. Introduction to Generative AI  \n",
    "Generative AI refers to machine learning models capable of generating new content, such as text, images, or designs, based on patterns learned from data.  \n",
    "\n",
    "In this notebook, we will explore:\n",
    "\n",
    "- **Text generation** for construction-related documentation  \n",
    "- **Site layout generation** using simple AI techniques  \n",
    "- **AI-assisted design and visualization**  \n",
    "- **AI-driven cost estimation assistance**  \n",
    "    "
   ]
  },
  {
   "cell_type": "markdown",
   "id": "5390d129",
   "metadata": {},
   "source": [
    "### Setup Instructions (Run if necessary)  \n",
    "Before running this notebook, ensure you have the required Python libraries installed. Run the following command in a code cell if needed:  \n",
    "```python\n",
    "!pip install openai matplotlib numpy\n",
    "```\n",
    "        "
   ]
  },
  {
   "cell_type": "markdown",
   "id": "95f92f57",
   "metadata": {},
   "source": [
    "## 2. AI-Generated Text for Construction Tasks"
   ]
  },
  {
   "cell_type": "code",
   "execution_count": null,
   "id": "a9850e39",
   "metadata": {},
   "outputs": [],
   "source": [
    "import openai  \n",
    "\n",
    "# Define a function to generate construction-related text  \n",
    "def generate_construction_text(prompt):  \n",
    "    response = openai.ChatCompletion.create(\n",
    "        model='gpt-4',\n",
    "        messages=[{'role': 'system', 'content': 'You are an AI assistant specialized in construction management.'},  \n",
    "                  {'role': 'user', 'content': prompt}]\n",
    "    )  \n",
    "    return response['choices'][0]['message']['content']  \n",
    "\n",
    "# Example: Generate safety guidelines for a construction site  \n",
    "prompt = 'Generate construction safety guidelines for a high-rise project.'  \n",
    "generated_text = generate_construction_text(prompt)  \n",
    "print(generated_text)  \n",
    "        "
   ]
  },
  {
   "cell_type": "markdown",
   "id": "51e0fb04",
   "metadata": {},
   "source": [
    "## 3. AI-Generated Site Layouts"
   ]
  },
  {
   "cell_type": "code",
   "execution_count": null,
   "id": "70372cb9",
   "metadata": {},
   "outputs": [],
   "source": [
    "import numpy as np  \n",
    "import matplotlib.pyplot as plt  \n",
    "\n",
    "# Generate a simple randomized site layout  \n",
    "np.random.seed(42)  \n",
    "x = np.random.randint(0, 100, size=20)  \n",
    "y = np.random.randint(0, 100, size=20)  \n",
    "building_sizes = np.random.randint(5, 15, size=20)  \n",
    "\n",
    "# Plot site layout  \n",
    "plt.figure(figsize=(8, 8))  \n",
    "plt.scatter(x, y, s=building_sizes**2, c='blue', alpha=0.5, label='Buildings')  \n",
    "plt.xlim(0, 100)  \n",
    "plt.ylim(0, 100)  \n",
    "plt.xlabel('X coordinate (m)')  \n",
    "plt.ylabel('Y coordinate (m)')  \n",
    "plt.title('AI-Generated Construction Site Layout')  \n",
    "plt.legend()  \n",
    "plt.grid(True)  \n",
    "plt.show()  \n",
    "        "
   ]
  },
  {
   "cell_type": "markdown",
   "id": "fdad91e0",
   "metadata": {},
   "source": [
    "## 4. AI-Generated Construction Concept Design (Using OpenAI's DALL·E)"
   ]
  },
  {
   "cell_type": "code",
   "execution_count": null,
   "id": "339a53f0",
   "metadata": {},
   "outputs": [],
   "source": [
    "import openai  \n",
    "\n",
    "# Function to generate an image prompt using AI  \n",
    "def generate_construction_image(prompt):  \n",
    "    response = openai.Image.create(prompt=prompt, n=1, size='1024x1024')  \n",
    "    return response['data'][0]['url']  \n",
    "\n",
    "# Example: Generate an image of a sustainable smart building  \n",
    "image_url = generate_construction_image('A futuristic smart building designed for sustainability with solar panels and green rooftops')  \n",
    "print('Generated Image URL:', image_url)  \n",
    "        "
   ]
  },
  {
   "cell_type": "markdown",
   "id": "d041d0f0",
   "metadata": {},
   "source": [
    "## 5. AI-Driven Cost Estimation Assistance"
   ]
  },
  {
   "cell_type": "code",
   "execution_count": null,
   "id": "8d8351ab",
   "metadata": {},
   "outputs": [],
   "source": [
    "import random  \n",
    "\n",
    "# Define a simple AI-based cost estimator  \n",
    "def ai_cost_estimator(material, area_sqft):  \n",
    "    material_costs = {'Concrete': 100, 'Steel': 150, 'Wood': 80}  # Cost per sqft  \n",
    "    base_cost = material_costs.get(material, 120)  \n",
    "    variability = random.uniform(0.9, 1.1)  # Simulate uncertainty  \n",
    "    estimated_cost = base_cost * area_sqft * variability  \n",
    "    return round(estimated_cost, 2)  \n",
    "\n",
    "# Example Usage  \n",
    "material = 'Concrete'  \n",
    "area = 5000  # Square feet  \n",
    "estimated_cost = ai_cost_estimator(material, area)  \n",
    "print(f'Estimated construction cost for {area} sqft using {material}: ${estimated_cost}')  \n",
    "        "
   ]
  },
  {
   "cell_type": "markdown",
   "id": "9588d47b",
   "metadata": {},
   "source": [
    "## 6. Ethical Considerations & Practical Limitations  \n",
    "While AI offers many benefits in construction, it also presents challenges:\n",
    "\n",
    "- **Bias in AI models**: AI can reflect biases present in training data.  \n",
    "- **Data privacy**: Sensitive construction project data must be protected.  \n",
    "- **Reliability concerns**: AI-generated designs must be validated by human experts.  \n",
    "- **Job displacement**: AI should be seen as an augmentation tool rather than a replacement.  \n",
    "\n",
    "**Discussion:** What are your thoughts on these ethical challenges?  \n",
    "        "
   ]
  }
 ],
 "metadata": {},
 "nbformat": 4,
 "nbformat_minor": 5
}