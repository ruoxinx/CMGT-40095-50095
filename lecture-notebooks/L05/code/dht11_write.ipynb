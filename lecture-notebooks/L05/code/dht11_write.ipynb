{
  "nbformat": 4,
  "nbformat_minor": 5,
  "metadata": {
    "kernelspec": {
      "display_name": "Python 3",
      "language": "python",
      "name": "python3"
    },
    "language_info": {
      "name": "python"
    }
  },
  "cells": [
    {
      "cell_type": "markdown",
      "metadata": {},
      "source": [
        "# DHT11 Data Logging with Raspberry Pi\n",
        "In this notebook, we demonstrate how to read temperature and humidity data from a **DHT11** sensor on a Raspberry Pi using the Adafruit CircuitPython DHT library, and then log the data to a CSV file.\n",
        "\n",
        "## What You Will Learn\n",
        "1. How to import the required libraries for handling time, board pins, DHT sensors, and CSV file operations.\n",
        "2. How to initialize the DHT11 sensor on a specific GPIO pin.\n",
        "3. How to set up a CSV file for data logging.\n",
        "4. How to continuously read data and handle common errors from DHT sensors.\n",
        "5. How to append data to a CSV file in real time.\n",
        "\n",
        "> **Note:** This notebook assumes that you have already installed `adafruit-circuitpython-dht` on your Raspberry Pi. Make sure your DHT sensor is wired to the correct GPIO pin. You do not need I2C or SPI for DHT sensors; they use a single-wire protocol."
      ]
    },
    {
      "cell_type": "markdown",
      "metadata": {},
      "source": [
        "## 1. Import Required Libraries\n",
        "We need:\n",
        "- **time**: to handle delays and timestamp formatting.\n",
        "- **board**: to access GPIO pin definitions on the Raspberry Pi.\n",
        "- **adafruit_dht**: CircuitPython library for reading DHT sensors.\n",
        "- **csv**: to write data into a CSV file."
      ]
    },
    {
      "cell_type": "code",
      "metadata": {},
      "source": [
        "import time\n",
        "import board\n",
        "import adafruit_dht\n",
        "import csv\n",
        "\n",
        "print(\"Libraries imported successfully!\")"
      ],
      "execution_count": null,
      "outputs": []
    },
    {
      "cell_type": "markdown",
      "metadata": {},
      "source": [
        "## 2. Initialize the DHT Sensor\n",
        "You can choose either a **DHT11** or **DHT22** sensor. Here, we uncomment the one we want to use. We also specify which GPIO pin is used.\n",
        "\n",
        "> **Important**: The DHT sensor libraries typically expect you to refer to pins using the `board` module (for example, `board.D4`), which corresponds to BCM GPIO 4 on the Raspberry Pi."
      ]
    },
    {
      "cell_type": "code",
      "metadata": {},
      "source": [
        "# Uncomment this line if you have a DHT22 sensor:\n",
        "# sensor = adafruit_dht.DHT22(board.D4)\n",
        "\n",
        "# Uncomment this line if you have a DHT11 sensor:\n",
        "sensor = adafruit_dht.DHT11(board.D4)\n",
        "\n",
        "print(\"DHT sensor initialized.\")"
      ],
      "execution_count": null,
      "outputs": []
    },
    {
      "cell_type": "markdown",
      "metadata": {},
      "source": [
        "## 3. Prepare the CSV File\n",
        "We specify the path to our CSV file (for example, `./sensor_data.csv`) and write a header row containing:\n",
        "1. Time (timestamp)\n",
        "2. Temperature in Celsius (°C)\n",
        "3. Temperature in Fahrenheit (°F)\n",
        "4. Humidity in percentage (%)\n",
        "\n",
        "The `with open` context manager will ensure the file is properly closed after writing."
      ]
    },
    {
      "cell_type": "code",
      "metadata": {},
      "source": [
        "csv_file = \"./sensor_data.csv\"\n",
        "\n",
        "# Open the file in 'write' mode to create or overwrite it, then write the CSV header\n",
        "with open(csv_file, mode='w', newline='') as file:\n",
        "    writer = csv.writer(file)\n",
        "    writer.writerow([\"Time\", \"Temperature (°C)\", \"Temperature (°F)\", \"Humidity (%)\"])\n",
        "\n",
        "print(f\"Data will be saved to {csv_file}\")"
      ],
      "execution_count": null,
      "outputs": []
    },
    {
      "cell_type": "markdown",
      "metadata": {},
      "source": [
        "## 4. Continuously Read and Log Data\n",
        "The main loop performs these steps:\n",
        "1. Get the current time in a readable format.\n",
        "2. Read the **temperature** in Celsius from the DHT sensor.\n",
        "3. Convert the temperature to Fahrenheit.\n",
        "4. Read the **humidity**.\n",
        "5. Print the data to the console.\n",
        "6. Append the data to the CSV file.\n",
        "7. Sleep for a few seconds and repeat.\n",
        "\n",
        "### Error Handling\n",
        "- DHT sensors can be finicky, so `RuntimeError` can occur if the reading fails.\n",
        "- We catch these errors, wait a couple of seconds, and continue.\n",
        "- For any other Exception, we exit the sensor properly and then raise the error."
      ]
    },
    {
      "cell_type": "code",
      "metadata": {},
      "source": [
        "print(\"Starting data collection. Press Stop or interrupt the kernel to exit.\")\n",
        "\n",
        "while True:\n",
        "    try:\n",
        "        # 1. Get the current time\n",
        "        measurement_time = time.strftime(\"%Y-%m-%d %H:%M:%S\", time.localtime())\n",
        "\n",
        "        # 2. Read temperature in Celsius\n",
        "        temperature_c = sensor.temperature\n",
        "\n",
        "        # 3. Convert temperature to Fahrenheit\n",
        "        temperature_f = temperature_c * (9.0 / 5.0) + 32.0\n",
        "\n",
        "        # 4. Read humidity\n",
        "        humidity = sensor.humidity\n",
        "\n",
        "        # 5. Print to console\n",
        "        print(f\"[{measurement_time}] Temp={temperature_c:.1f}ºC, \"\n",
        "              f\"Temp={temperature_f:.1f}ºF, \"\n",
        "              f\"Humidity={humidity:.1f}%\")\n",
        "\n",
        "        # 6. Append values to CSV\n",
        "        with open(csv_file, mode='a', newline='') as file:\n",
        "            writer = csv.writer(file)\n",
        "            writer.writerow([measurement_time, temperature_c, temperature_f, humidity])\n",
        "\n",
        "    except RuntimeError as error:\n",
        "        # This happens occasionally with DHT sensors; retry after a short pause\n",
        "        print(f\"RuntimeError encountered: {error}\")\n",
        "        time.sleep(2.0)\n",
        "        continue\n",
        "    except Exception as error:\n",
        "        # Exit the sensor and re-raise any unexpected error\n",
        "        sensor.exit()\n",
        "        raise error\n",
        "\n",
        "    # 7. Sleep for 3 seconds before the next reading\n",
        "    time.sleep(3.0)"
      ],
      "execution_count": null,
      "outputs": []
    },
    {
      "cell_type": "markdown",
      "metadata": {},
      "source": [
        "## 5. Summary\n",
        "In this notebook, we:\n",
        "1. Imported the necessary libraries: `time`, `board`, `adafruit_dht`, and `csv`.\n",
        "2. Initialized a **DHT11** sensor on GPIO 4 (`board.D4`).\n",
        "3. Created (or overwrote) a CSV file named `sensor_data.csv` and wrote a header row.\n",
        "4. Started a loop to read data from the DHT11 sensor, print it to the console, and append each reading to the CSV file.\n",
        "5. Handled common reading errors (e.g., `RuntimeError`) by retrying, and performed a clean exit in case of unexpected exceptions.\n",
        "\n",
        "### Next Steps\n",
        "- Swap the sensor initialization for **DHT22** if you have that model.\n",
        "- Experiment with different logging intervals.\n",
        "- Visualize the data by reading the CSV file and plotting temperature/humidity over time.\n",
        "- Integrate with a dashboard or web server to view readings in real time.\n",
        "\n",
        "Happy hacking!"
      ]
    }
  ]
}
