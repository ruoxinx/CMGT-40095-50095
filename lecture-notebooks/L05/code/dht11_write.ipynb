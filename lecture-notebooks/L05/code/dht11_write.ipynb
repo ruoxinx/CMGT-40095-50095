{
 "cells": [
  {
   "cell_type": "markdown",
   "metadata": {},
   "source": [
    "# DHT11 Data Logging with Raspberry Pi\n",
    "In this notebook, we demonstrate how to read temperature and humidity data from a **DHT11** sensor on a Raspberry Pi using the Adafruit CircuitPython DHT library, and then log the data to a CSV file.\n",
    "\n",
    "## What You Will Learn\n",
    "1. How to import the required libraries for handling time, board pins, DHT sensors, and CSV file operations.\n",
    "2. How to initialize the DHT11 sensor on a specific GPIO pin.\n",
    "3. How to set up a CSV file for data logging.\n",
    "4. How to continuously read data and handle common errors from DHT sensors.\n",
    "5. How to append data to a CSV file in real time.\n",
    "\n",
    "> **Note:** This notebook assumes that you have already installed `adafruit-circuitpython-dht` and `python3` on your Raspberry Pi, as well as `pip` or `pip3` to manage your Python packages. Additionally, make sure that your DHT sensor is connected to a GPIO pin on the Raspberry Pi and that you have enabled I2C/SPI as needed (though the DHT uses a single-wire protocol)."
   ]
  },
  {
   "cell_type": "markdown",
   "metadata": {},
   "source": [
    "## 1. Import Required Libraries\n",
    "We need:\n",
    "- **time**: to handle delays and timestamp formatting.\n",
    "- **board**: to access GPIO pin definitions on the Raspberry Pi.\n",
    "- **adafruit_dht**: CircuitPython library for reading DHT sensors.\n",
    "- **csv**: to write data into a CSV file.\n"
   ]
  },
  {
   "cell_type": "code",
   "metadata": {
    "tags": []
   },
   "source": [
    "import time\n",
    "import board\n",
    "import adafruit_dht\n",
    "import csv\n",
    "\n",
    "print(\"Libraries imported successfully!\")"
   ],
   "execution_count": null,
   "outputs": []
  },
  {
   "cell_type": "markdown",
   "metadata": {},
   "source": [
    "## 2. Initialize the DHT Sensor\n",
    "You can choose either a **DHT11** or **DHT22** sensor. Here, we uncomment the sensor we want to use. We also specify which GPIO pin is used. In this example, we use **GPIO 4** (`board.D4`) as our data pin.\n",
    "\n",
    "> **Important**: The DHT sensor libraries typically expect that you refer to pins using the `board` module (e.g., `board.D4`), which corresponds to the Raspberry Pi's physical pin layout / BCM notation."
   ]
  },
  {
   "cell_type": "code",
   "metadata": {},
   "source": [
    "# Comment out the DHT22 line if you are using DHT11\n",
    "# sensor = adafruit_dht.DHT22(board.D4)\n",
    "\n",
    "# Uncomment for DHT11\n",
    "sensor = adafruit_dht.DHT11(board.D4)\n",
    "\n",
    "print(\"DHT sensor initialized.\")"
   ],
   "execution_count": null,
   "outputs": []
  },
  {
   "cell_type": "markdown",
   "metadata": {},
   "source": [
    "## 3. Prepare the CSV File\n",
    "We specify the path to our CSV file (e.g., `./sensor_data.csv`) and write a header row containing the column names:\n",
    "\n",
    "1. Time (timestamp)\n",
    "2. Temperature in Celsius (°C)\n",
    "3. Temperature in Fahrenheit (°F)\n",
    "4. Humidity in percentage (%)\n",
    "\n",
    "The **`with open`** context manager ensures the file is properly closed after writing."
   ]
  },
  {
   "cell_type": "code",
   "metadata": {},
   "source": [
    "csv_file = \"./sensor_data.csv\"\n",
    "\n",
    "# Open the file in 'write' mode to create (or overwrite) it and write the CSV header\n",
    "with open(csv_file, mode='w', newline='') as file:\n",
    "    writer = csv.writer(file)\n",
    "    writer.writerow([\"Time\", \"Temperature (°C)\", \"Temperature (°F)\", \"Humidity (%)\"])\n",
    "\n",
    "print(f\"Data will be saved to {csv_file}\")"
   ],
   "execution_count": null,
   "outputs": []
  },
  {
   "cell_type": "markdown",
   "metadata": {},
   "source": [
    "## 4. Continuously Read and Log Data\n",
    "The main loop performs these steps:\n",
    "1. Get the current time in a readable format.\n",
    "2. Read the **temperature** in Celsius from the DHT sensor.\n",
    "3. Convert the temperature to Fahrenheit.\n",
    "4. Read the **humidity** percentage.\n",
    "5. Print the data to the console.\n",
    "6. Append the data to the CSV file.\n",
    "7. Sleep for a few seconds before repeating.\n",
    "\n",
    "### Error Handling\n",
    "* DHT sensors can be finnicky, so **`RuntimeError`** can occur often if the reading fails. We catch these errors, wait 2 seconds, and **continue**.\n",
    "* For any other **Exception**, we exit the sensor properly and raise the error to stop the script.\n"
   ]
  },
  {
   "cell_type": "code",
   "metadata": {},
   "source": [
    "try:\n",
    "    print(\"Starting sensor data collection. Press Stop or interrupt the kernel to exit.\")\n",
    "    while True:\n",
    "        # 1. Get the current time\n",
    "        measurement_time = time.strftime(\"%Y-%m-%d %H:%M:%S\", time.localtime())\n",
    "\n",
    "        # 2. Read temperature in Celsius\n",
    "        temperature_c = sensor.temperature\n",
    "\n",
    "        # 3. Convert temperature to Fahrenheit\n",
    "        temperature_f = temperature_c * (9.0 / 5.0) + 32.0\n",
    "\n",
    "        # 4. Read humidity\n",
    "        humidity = sensor.humidity\n",
    "\n",
    "        # 5. Print values to the console\n",
    "        print(\"[{}] Temp={:0.1f}ºC, Temp={:0.1f}ºF, Humidity={:0.1f}%\".format(\n",
    "            measurement_time, temperature_c, temperature_f, humidity))\n",
    "\n",
    "        # 6. Append values to CSV\n",
    "        with open(csv_file, mode='a', newline='') as file:\n",
    "            writer = csv.writer(file)\n",
    "            writer.writerow([measurement_time, temperature_c, temperature_f, humidity])\n",
    "\n",
    "        # 7. Sleep 3 seconds before the next reading\n",
    "        time.sleep(3.0)\n",
    "\n",
    "except RuntimeError as error:\n",
    "    # This happens often with DHT sensors, just retry\n",
    "    print(error.args[0])\n",
    "    time.sleep(2.0)\n",
    "\n",
    "except Exception as error:\n",
    "    # Exit the sensor on any other unexpected exception\n",
    "    sensor.exit()\n",
    "    raise error"
   ],
   "execution_count": null,
   "outputs": []
  },
  {
   "cell_type": "markdown",
   "metadata": {},
   "source": [
    "## 5. Summary\n",
    "In this notebook, we:\n",
    "1. Imported the necessary libraries.\n",
    "2. Initialized a DHT11 sensor on GPIO4.\n",
    "3. Created or overwrote a CSV file and wrote a header.\n",
    "4. Entered a loop to read data from the sensor, print it, and log it to the CSV file every few seconds.\n",
    "5. Handled common errors (`RuntimeError`) gracefully.\n",
    "\n",
    "This setup allows you to collect temperature and humidity data over time. You can open the CSV file (e.g., `sensor_data.csv`) in a spreadsheet program or use Python to perform further data analysis (plotting, statistics, etc.).\n",
    "\n",
    "### Next Steps\n",
    "- Try using the **DHT22** sensor (uncomment the relevant line and comment out the DHT11 line) for potentially better accuracy and range.\n",
    "- Modify the code to store data in a local or remote database (MySQL, PostgreSQL, InfluxDB, etc.).\n",
    "- Create interactive plots in real time using libraries like [matplotlib](https://matplotlib.org/) or [plotly](https://plotly.com/).\n",
    "\n",
    "Happy hacking!"
   ]
  }
 ],
 \"metadata\": {
  \"kernelspec\": {
   \"name\": \"python3\",
   \"display_name\": \"Python 3\",
   \"language\": \"python\"
  },
  \"language_info\": {
   \"name\": \"python\"
  }
 },
 \"nbformat\": 4,
 \"nbformat_minor\": 5
}
