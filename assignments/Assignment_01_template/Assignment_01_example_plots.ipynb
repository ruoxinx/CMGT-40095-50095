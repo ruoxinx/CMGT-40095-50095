{
  "nbformat": 4,
  "nbformat_minor": 0,
  "metadata": {
    "colab": {
      "provenance": []
    },
    "kernelspec": {
      "name": "python3",
      "display_name": "Python 3"
    },
    "language_info": {
      "name": "python"
    }
  },
  "cells": [
    {
      "cell_type": "markdown",
      "source": [
        "## **CMGT 40095/50095: Assignment 01**\n",
        "\n",
        "Use Python in Google Colab to create visual representations of the challenges in the construction industry. Follow the steps below to complete your task:"
      ],
      "metadata": {
        "id": "hEDRY5QV5_He"
      }
    },
    {
      "cell_type": "markdown",
      "source": [
        "**Setup Your Environment:**"
      ],
      "metadata": {
        "id": "8m84e4XQ6Lj4"
      }
    },
    {
      "cell_type": "code",
      "source": [
        "# Import necessary libraries\n",
        "import pandas as pd\n",
        "import matplotlib.pyplot as plt\n",
        "import seaborn as sns"
      ],
      "metadata": {
        "id": "eXm3an4G6D4W"
      },
      "execution_count": 1,
      "outputs": []
    },
    {
      "cell_type": "markdown",
      "source": [
        "**Data Loading:**\n",
        "\n",
        "\n",
        "*   Load your dataset. (You can use a hypothetical or publicly available dataset related to construction costs, delays, labor statistics, etc.)\n",
        "*   Example dataset loading:\n",
        "\n"
      ],
      "metadata": {
        "id": "0XFp9PAu6XJO"
      }
    },
    {
      "cell_type": "code",
      "source": [
        "data = pd.read_csv('path_to_your_dataset.csv')"
      ],
      "metadata": {
        "id": "gZ5uJIuc6gzm"
      },
      "execution_count": null,
      "outputs": []
    },
    {
      "cell_type": "markdown",
      "source": [
        "**Data Visualization Tasks:**\n",
        "\n",
        "**Visualization 1**: Create a bar chart showing the cost overruns in various construction projects across different states or countries."
      ],
      "metadata": {
        "id": "GC_h1T8j6kI4"
      }
    },
    {
      "cell_type": "code",
      "source": [
        "plt.figure(figsize=(10, 6))\n",
        "plt.bar(data['Project'], data['Cost_Overrun'], color='red')\n",
        "plt.xlabel('Project')\n",
        "plt.ylabel('Cost Overrun ($)')\n",
        "plt.title('Cost Overruns in Construction Projects')\n",
        "plt.show()"
      ],
      "metadata": {
        "id": "qmqGA7CS6rCW"
      },
      "execution_count": null,
      "outputs": []
    },
    {
      "cell_type": "markdown",
      "source": [
        "**Visualization 2**: Generate a line graph to depict the timeline delays across several projects. (please refer to the examples covered in the class)"
      ],
      "metadata": {
        "id": "pCgmuabM6x_X"
      }
    },
    {
      "cell_type": "code",
      "source": [
        "# insert your code here"
      ],
      "metadata": {
        "id": "l7tLAjus7Cm-"
      },
      "execution_count": null,
      "outputs": []
    },
    {
      "cell_type": "markdown",
      "source": [
        "**Visualization 3**: Use a scatter plot to explore the relationship between project size (e.g., square footage) and labor hours required. (please refer to the examples covered in the class)"
      ],
      "metadata": {
        "id": "hq5msbMg69i_"
      }
    },
    {
      "cell_type": "code",
      "source": [
        "# insert your code here"
      ],
      "metadata": {
        "id": "oy1xn9LE67p4"
      },
      "execution_count": null,
      "outputs": []
    },
    {
      "cell_type": "markdown",
      "source": [
        "Please note that the types of data visualizations and figures you choose are not limited to the examples provided! Feel free to explore and utilize various visualization techniques that best represent the data and insights you wish to convey."
      ],
      "metadata": {
        "id": "ol9-XMD27Lpf"
      }
    },
    {
      "cell_type": "code",
      "source": [
        "# insert your code here"
      ],
      "metadata": {
        "id": "RQvEmhMU7ce4"
      },
      "execution_count": null,
      "outputs": []
    }
  ]
}