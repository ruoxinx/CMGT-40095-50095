{
  "cells": [
    {
      "cell_type": "markdown",
      "id": "2a382e79c2764685",
      "metadata": {
        "id": "2a382e79c2764685"
      },
      "source": [
        "# Assignment 5: Construction Equipment Detection using YOLOv5\n",
        "\n",
        "### Overview\n",
        "In this assignment, you will build an object detection model to detect construction vehicles and machines using the dataset from [Kaggle](https://www.kaggle.com/datasets/kartaviychert/arh-df)\n",
        "\n",
        "## Dataset Summary\n",
        "\n",
        "**Construction Equipment** is a dataset for an object detection task. Possible applications of the dataset could be in the construction and surveillance industries.\n",
        "\n",
        "The dataset consists of 318 images with **3,752** labeled objects belonging to **5** different classes including `crane`, `excavator`, `truck`, and ` tractor` and `other`.\n",
        "\n",
        "Images in the Construction Equipment dataset have bounding box annotations. All images are labeled (i.e. with annotations). There are no pre-defined train/val/test splits in the dataset. The dataset was released in 2023.\n",
        "\n",
        "The dataset is structured as follows:\n",
        "  - **img/**: Contains all JPG images\n",
        "  - **ann/**: Contains annotation files in JSON format (one per image)"
      ]
    },
    {
      "cell_type": "markdown",
      "id": "98fce1d4-c70d-4bf7-bcbb-2fb35bbcadc7",
      "metadata": {
        "id": "98fce1d4-c70d-4bf7-bcbb-2fb35bbcadc7"
      },
      "source": [
        "You will:\n",
        "1. Download and unzip the dataset from a Google Drive shared link.\n",
        "2. Split the dataset into training (80%), validation (10%), and test (10%) sets.\n",
        "3. Convert JSON annotations to YOLO format (.txt files) and save them in a new `labels` folder for each split.\n",
        "4. Create a YOLOv5 configuration file.\n",
        "5. Train a YOLOv5 model (using pretrained YOLOv5s weights) and monitor performance.\n",
        "6. Evaluate the model on the test set (computing precision, recall, and mAP).\n",
        "7. Run inference and display a few detected result images.\n",
        "\n",
        "> **Note:** Update `<YOUR_GOOGLE_DRIVE_FILE_ID>` with your actual Google Drive file ID. This notebook is designed to run in Google Colab with GPU enabled."
      ]
    },
    {
      "cell_type": "markdown",
      "id": "a87a1e5c32abd5c",
      "metadata": {
        "id": "a87a1e5c32abd5c"
      },
      "source": [
        "## Step 1: Download the Dataset\n",
        "\n",
        "We will use `gdown` to download the dataset from a shared Google Drive link. The dataset should unzip into a folder named `ARH-DF` containing two folders:\n",
        "\n",
        "```\n",
        "ARH-DF/\n",
        "   ├── img/         (all .jpg images)\n",
        "   └── ann/         (annotation files in JSON format)\n",
        "```"
      ]
    },
    {
      "cell_type": "code",
      "execution_count": null,
      "id": "c659916a451ade0f",
      "metadata": {
        "id": "c659916a451ade0f"
      },
      "outputs": [],
      "source": [
        "!pip install gdown pyyaml"
      ]
    },
    {
      "cell_type": "markdown",
      "id": "8642fd3314fc15e9",
      "metadata": {
        "id": "8642fd3314fc15e9"
      },
      "source": [
        "### Download Dataset from Google Drive\n",
        "Replace `<YOUR_GOOGLE_DRIVE_FILE_ID>` with your actual file ID.\n",
        "\n",
        "**Dataset link**: https://drive.google.com/file/d/1gbfkO37WZl4cVxE-YhGFxqMwSDL5Xyzp/view\n",
        "\n",
        "**Google Drive file ID**: 1gbfkO37WZl4cVxE-YhGFxqMwSDL5Xyzp"
      ]
    },
    {
      "cell_type": "code",
      "execution_count": null,
      "id": "c29315b6263bbff6",
      "metadata": {
        "colab": {
          "base_uri": "https://localhost:8080/"
        },
        "id": "c29315b6263bbff6",
        "outputId": "4a6dbac8-44d9-43b2-e9c6-4452f3b596a2"
      },
      "outputs": [
        {
          "output_type": "stream",
          "name": "stdout",
          "text": [
            "Downloading dataset...\n"
          ]
        },
        {
          "output_type": "stream",
          "name": "stderr",
          "text": [
            "Downloading...\n",
            "From (original): https://drive.google.com/uc?id=1gbfkO37WZl4cVxE-YhGFxqMwSDL5Xyzp\n",
            "From (redirected): https://drive.google.com/uc?id=1gbfkO37WZl4cVxE-YhGFxqMwSDL5Xyzp&confirm=t&uuid=5182cff7-be01-4b33-b4c8-e5def699a97c\n",
            "To: /content/construction_equipment_dataset.zip\n",
            "100%|██████████| 427M/427M [00:02<00:00, 151MB/s]\n"
          ]
        },
        {
          "output_type": "stream",
          "name": "stdout",
          "text": [
            "replace /content/construction_equipment_dataset/img/001ebfeb-frame288.jpg? [y]es, [n]o, [A]ll, [N]one, [r]ename: "
          ]
        }
      ],
      "source": [
        "import gdown\n",
        "\n",
        "# Replace with your actual Google Drive file ID for the zipped dataset\n",
        "file_id = '1gbfkO37WZl4cVxE-YhGFxqMwSDL5Xyzp'\n",
        "url = f'https://drive.google.com/uc?id={file_id}'\n",
        "output_zip = '/content/construction_equipment_dataset.zip'\n",
        "\n",
        "print(\"Downloading dataset...\")\n",
        "gdown.download(url, output_zip, quiet=False)\n",
        "\n",
        "!unzip -q /content/construction_equipment_dataset.zip -d /content/construction_equipment_dataset\n",
        "print(\"Dataset downloaded and unzipped to /content/construction_equipment_dataset\")"
      ]
    },
    {
      "cell_type": "markdown",
      "id": "b7865f4c94a08ae9",
      "metadata": {
        "id": "b7865f4c94a08ae9"
      },
      "source": [
        "## Step 2: Split the Dataset and Convert Annotations\n",
        "\n",
        "The raw dataset in `/content/construction_equipment_dataset` has two folders: `img` for images and `ann` for JSON annotation files. We'll split the images into train (80%), validation (10%), and test (10%) sets. Then, for each image, we'll convert its corresponding JSON annotation to YOLO format and save it as a `.txt` file in a new `labels` folder for that split."
      ]
    },
    {
      "cell_type": "code",
      "execution_count": 53,
      "id": "3db1c2c85f8b2124",
      "metadata": {
        "colab": {
          "base_uri": "https://localhost:8080/"
        },
        "id": "3db1c2c85f8b2124",
        "outputId": "c12ce17d-b719-4d81-a34a-2675817cbedb"
      },
      "outputs": [
        {
          "output_type": "stream",
          "name": "stdout",
          "text": [
            "Renamed 676153b0-frame222.jpg.json to 676153b0-frame222.json\n",
            "Renamed aecb5182-frame123.jpg.json to aecb5182-frame123.json\n",
            "Renamed 18ea281c-frame46.jpg.json to 18ea281c-frame46.json\n",
            "Renamed 6db1a3b1-frame18.jpg.json to 6db1a3b1-frame18.json\n",
            "Renamed a83e97df-frame145.jpg.json to a83e97df-frame145.json\n",
            "Renamed 6989450e-frame233.jpg.json to 6989450e-frame233.json\n",
            "Renamed 688ffb90-frame213.jpg.json to 688ffb90-frame213.json\n",
            "Renamed cff7169c-frame170.jpg.json to cff7169c-frame170.json\n",
            "Renamed 2f01e79f-frame253.jpg.json to 2f01e79f-frame253.json\n",
            "Renamed 88f3d9d0-frame129.jpg.json to 88f3d9d0-frame129.json\n",
            "Renamed 2c04e376-frame157.jpg.json to 2c04e376-frame157.json\n",
            "Renamed aa2e495c-frame216.jpg.json to aa2e495c-frame216.json\n",
            "Renamed 4eba3100-frame266.jpg.json to 4eba3100-frame266.json\n",
            "Renamed 0bad1cea-frame156.jpg.json to 0bad1cea-frame156.json\n",
            "Renamed 5c83fa13-frame246.jpg.json to 5c83fa13-frame246.json\n",
            "Renamed be513ea8-frame74.jpg.json to be513ea8-frame74.json\n",
            "Renamed 2e5d2d01-frame0.jpg.json to 2e5d2d01-frame0.json\n",
            "Renamed 18c953f0-frame241.jpg.json to 18c953f0-frame241.json\n",
            "Renamed 2eedd99a-frame9.jpg.json to 2eedd99a-frame9.json\n",
            "Renamed 08d28f92-frame27.jpg.json to 08d28f92-frame27.json\n",
            "Renamed 470da39d-frame211.jpg.json to 470da39d-frame211.json\n",
            "Renamed 05f4f85b-frame138.jpg.json to 05f4f85b-frame138.json\n",
            "Renamed bb9c2d53-frame54.jpg.json to bb9c2d53-frame54.json\n",
            "Renamed bb7b61bc-frame178.jpg.json to bb7b61bc-frame178.json\n",
            "Renamed a64d217f-frame110.jpg.json to a64d217f-frame110.json\n",
            "Renamed e1f42c4e-frame280.jpg.json to e1f42c4e-frame280.json\n",
            "Renamed 00c0cbaf-frame286.jpg.json to 00c0cbaf-frame286.json\n",
            "Renamed 4a479893-frame119.jpg.json to 4a479893-frame119.json\n",
            "Renamed 25946d22-frame236.jpg.json to 25946d22-frame236.json\n",
            "Renamed 453b7837-frame128.jpg.json to 453b7837-frame128.json\n",
            "Renamed 8eb70c64-frame251.jpg.json to 8eb70c64-frame251.json\n",
            "Renamed d545b836-frame285.jpg.json to d545b836-frame285.json\n",
            "Renamed 3b5a358d-frame97.jpg.json to 3b5a358d-frame97.json\n",
            "Renamed 9dd30b88-frame192.jpg.json to 9dd30b88-frame192.json\n",
            "Renamed 8be974fc-frame68.jpg.json to 8be974fc-frame68.json\n",
            "Renamed 6d4419bb-frame85.jpg.json to 6d4419bb-frame85.json\n",
            "Renamed 7ab7b377-frame13.jpg.json to 7ab7b377-frame13.json\n",
            "Renamed 011ae7cb-frame16.jpg.json to 011ae7cb-frame16.json\n",
            "Renamed 3fd460be-frame242.jpg.json to 3fd460be-frame242.json\n",
            "Renamed f07bbc88-frame290.jpg.json to f07bbc88-frame290.json\n",
            "Renamed 343c15ea-frame100.jpg.json to 343c15ea-frame100.json\n",
            "Renamed cc7b300c-frame39.jpg.json to cc7b300c-frame39.json\n",
            "Renamed b8bc43f9-frame269.jpg.json to b8bc43f9-frame269.json\n",
            "Renamed fe14a598-frame268.jpg.json to fe14a598-frame268.json\n",
            "Renamed 8d27516a-frame1.jpg.json to 8d27516a-frame1.json\n",
            "Renamed 8ba624c8-frame47.jpg.json to 8ba624c8-frame47.json\n",
            "Renamed 03fc9178-frame81.jpg.json to 03fc9178-frame81.json\n",
            "Renamed 7678c3da-frame252.jpg.json to 7678c3da-frame252.json\n",
            "Renamed 7432bf74-frame255.jpg.json to 7432bf74-frame255.json\n",
            "Renamed c013068a-frame188.jpg.json to c013068a-frame188.json\n",
            "Renamed 676e243a-frame19.jpg.json to 676e243a-frame19.json\n",
            "Renamed 80f7be38-frame0.jpg.json to 80f7be38-frame0.json\n",
            "Renamed cf5227e8-frame105.jpg.json to cf5227e8-frame105.json\n",
            "Renamed 3f9232ff-frame99.jpg.json to 3f9232ff-frame99.json\n",
            "Renamed 1fee57d6-frame225.jpg.json to 1fee57d6-frame225.json\n",
            "Renamed d59bbf3b-frame17.jpg.json to d59bbf3b-frame17.json\n",
            "Renamed cba3cbae-frame52.jpg.json to cba3cbae-frame52.json\n",
            "Renamed bca8562d-frame240.jpg.json to bca8562d-frame240.json\n",
            "Renamed 313e2ef7-frame149.jpg.json to 313e2ef7-frame149.json\n",
            "Renamed e3007ec8-frame210.jpg.json to e3007ec8-frame210.json\n",
            "Renamed 41403812-frame160.jpg.json to 41403812-frame160.json\n",
            "Renamed f3fd69a9-frame283.jpg.json to f3fd69a9-frame283.json\n",
            "Renamed 54cf67e9-frame171.jpg.json to 54cf67e9-frame171.json\n",
            "Renamed c1008335-frame10.jpg.json to c1008335-frame10.json\n",
            "Renamed bd390105-frame237.jpg.json to bd390105-frame237.json\n",
            "Renamed 56750c8b-frame143.jpg.json to 56750c8b-frame143.json\n",
            "Renamed 752f28f1-frame107.jpg.json to 752f28f1-frame107.json\n",
            "Renamed 1ec55d25-frame206.jpg.json to 1ec55d25-frame206.json\n",
            "Renamed 25c12bdd-frame22.jpg.json to 25c12bdd-frame22.json\n",
            "Renamed a5358426-frame113.jpg.json to a5358426-frame113.json\n",
            "Renamed c05d1a82-frame92.jpg.json to c05d1a82-frame92.json\n",
            "Renamed 0525eac5-frame173.jpg.json to 0525eac5-frame173.json\n",
            "Renamed b3f1974c-frame230.jpg.json to b3f1974c-frame230.json\n",
            "Renamed 69b2a863-frame121.jpg.json to 69b2a863-frame121.json\n",
            "Renamed f8bab99a-frame281.jpg.json to f8bab99a-frame281.json\n",
            "Renamed 08e5331b-frame208.jpg.json to 08e5331b-frame208.json\n",
            "Renamed ae0de6bc-frame55.jpg.json to ae0de6bc-frame55.json\n",
            "Renamed a675d8fb-frame215.jpg.json to a675d8fb-frame215.json\n",
            "Renamed bd73358d-frame63.jpg.json to bd73358d-frame63.json\n",
            "Renamed 02078278-frame203.jpg.json to 02078278-frame203.json\n",
            "Renamed b636b39b-frame62.jpg.json to b636b39b-frame62.json\n",
            "Renamed 7a39823c-frame86.jpg.json to 7a39823c-frame86.json\n",
            "Renamed 91f0ca43-frame180.jpg.json to 91f0ca43-frame180.json\n",
            "Renamed d0f4f12d-frame15.jpg.json to d0f4f12d-frame15.json\n",
            "Renamed 0fa5d185-frame277.jpg.json to 0fa5d185-frame277.json\n",
            "Renamed 7afe8596-frame136.jpg.json to 7afe8596-frame136.json\n",
            "Renamed 66eab78e-frame169.jpg.json to 66eab78e-frame169.json\n",
            "Renamed 77718fe7-frame293.jpg.json to 77718fe7-frame293.json\n",
            "Renamed 354bcef6-frame21.jpg.json to 354bcef6-frame21.json\n",
            "Renamed 8e623a50-frame87.jpg.json to 8e623a50-frame87.json\n",
            "Renamed e2a6d084-frame229.jpg.json to e2a6d084-frame229.json\n",
            "Renamed dddbce9e-frame256.jpg.json to dddbce9e-frame256.json\n",
            "Renamed 067c7502-frame36.jpg.json to 067c7502-frame36.json\n",
            "Renamed 5623e00d-frame12.jpg.json to 5623e00d-frame12.json\n",
            "Renamed 264c4d9c-frame112.jpg.json to 264c4d9c-frame112.json\n",
            "Renamed a4b3c9d5-frame43.jpg.json to a4b3c9d5-frame43.json\n",
            "Renamed db0db613-frame264.jpg.json to db0db613-frame264.json\n",
            "Renamed 04e3885c-frame56.jpg.json to 04e3885c-frame56.json\n",
            "Renamed 3b9000c6-frame66.jpg.json to 3b9000c6-frame66.json\n",
            "Renamed 1ed9030c-frame166.jpg.json to 1ed9030c-frame166.json\n",
            "Renamed f138d12e-frame228.jpg.json to f138d12e-frame228.json\n",
            "Renamed b3adeb89-frame32.jpg.json to b3adeb89-frame32.json\n",
            "Renamed 8d9ed436-frame3.jpg.json to 8d9ed436-frame3.json\n",
            "Renamed 2561903b-frame201.jpg.json to 2561903b-frame201.json\n",
            "Renamed 07bdf99e-frame2.jpg.json to 07bdf99e-frame2.json\n",
            "Renamed 3e48bef1-frame29.jpg.json to 3e48bef1-frame29.json\n",
            "Renamed 9c90965b-frame33.jpg.json to 9c90965b-frame33.json\n",
            "Renamed 14a92922-frame118.jpg.json to 14a92922-frame118.json\n",
            "Renamed 1b5774bc-frame42.jpg.json to 1b5774bc-frame42.json\n",
            "Renamed e5de0bdc-frame101.jpg.json to e5de0bdc-frame101.json\n",
            "Renamed b74341d2-frame191.jpg.json to b74341d2-frame191.json\n",
            "Renamed ebcafa5c-frame194.jpg.json to ebcafa5c-frame194.json\n",
            "Renamed 496242c2-frame289.jpg.json to 496242c2-frame289.json\n",
            "Renamed a2726609-frame93.jpg.json to a2726609-frame93.json\n",
            "Renamed d3e28ae4-frame207.jpg.json to d3e28ae4-frame207.json\n",
            "Renamed b9fb81b2-frame223.jpg.json to b9fb81b2-frame223.json\n",
            "Renamed fb86eaaf-frame70.jpg.json to fb86eaaf-frame70.json\n",
            "Renamed 240acbb2-frame67.jpg.json to 240acbb2-frame67.json\n",
            "Renamed f9309171-frame276.jpg.json to f9309171-frame276.json\n",
            "Renamed e4022089-frame50.jpg.json to e4022089-frame50.json\n",
            "Renamed 263bc008-frame1.jpg.json to 263bc008-frame1.json\n",
            "Renamed 6656ad9e-frame292.jpg.json to 6656ad9e-frame292.json\n",
            "Renamed 8a957f5d-frame111.jpg.json to 8a957f5d-frame111.json\n",
            "Renamed 7ee41221-frame174.jpg.json to 7ee41221-frame174.json\n",
            "Renamed 3367756c-frame34.jpg.json to 3367756c-frame34.json\n",
            "Renamed 42630458-frame202.jpg.json to 42630458-frame202.json\n",
            "Renamed d61972a4-frame10.jpg.json to d61972a4-frame10.json\n",
            "Renamed 01879f29-frame164.jpg.json to 01879f29-frame164.json\n",
            "Renamed ed403313-frame154.jpg.json to ed403313-frame154.json\n",
            "Renamed 1751bf6e-frame95.jpg.json to 1751bf6e-frame95.json\n",
            "Renamed 9b809509-frame231.jpg.json to 9b809509-frame231.json\n",
            "Renamed 8c5892d3-frame134.jpg.json to 8c5892d3-frame134.json\n",
            "Renamed 99e90ef9-frame177.jpg.json to 99e90ef9-frame177.json\n",
            "Renamed cab7d182-frame238.jpg.json to cab7d182-frame238.json\n",
            "Renamed 63f28edc-frame28.jpg.json to 63f28edc-frame28.json\n",
            "Renamed e474bf31-frame265.jpg.json to e474bf31-frame265.json\n",
            "Renamed 3a15c700-frame209.jpg.json to 3a15c700-frame209.json\n",
            "Renamed aec8580d-frame172.jpg.json to aec8580d-frame172.json\n",
            "Renamed ece55315-frame235.jpg.json to ece55315-frame235.json\n",
            "Renamed dcc64c9f-frame80.jpg.json to dcc64c9f-frame80.json\n",
            "Renamed 79eb155a-frame17.jpg.json to 79eb155a-frame17.json\n",
            "Renamed c83fc8d5-frame132.jpg.json to c83fc8d5-frame132.json\n",
            "Renamed a6cba435-frame250.jpg.json to a6cba435-frame250.json\n",
            "Renamed 98dd0f07-frame72.jpg.json to 98dd0f07-frame72.json\n",
            "Renamed 2624440b-frame183.jpg.json to 2624440b-frame183.json\n",
            "Renamed 87b6aa5d-frame20.jpg.json to 87b6aa5d-frame20.json\n",
            "Renamed 4a9addbf-frame27.jpg.json to 4a9addbf-frame27.json\n",
            "Renamed 1d079edd-frame155.jpg.json to 1d079edd-frame155.json\n",
            "Renamed 690bf1bf-frame16.jpg.json to 690bf1bf-frame16.json\n",
            "Renamed 9588192e-frame146.jpg.json to 9588192e-frame146.json\n",
            "Renamed 6b149a56-frame165.jpg.json to 6b149a56-frame165.json\n",
            "Renamed 787d1731-frame102.jpg.json to 787d1731-frame102.json\n",
            "Renamed e4f9fba7-frame19.jpg.json to e4f9fba7-frame19.json\n",
            "Renamed 1fc863bf-frame4.jpg.json to 1fc863bf-frame4.json\n",
            "Renamed ef71dad9-frame197.jpg.json to ef71dad9-frame197.json\n",
            "Renamed 255112b0-frame181.jpg.json to 255112b0-frame181.json\n",
            "Renamed de740863-frame133.jpg.json to de740863-frame133.json\n",
            "Renamed 60801965-frame162.jpg.json to 60801965-frame162.json\n",
            "Renamed 7abdabcd-frame2.jpg.json to 7abdabcd-frame2.json\n",
            "Renamed fc203cca-frame26.jpg.json to fc203cca-frame26.json\n",
            "Renamed eb63fa11-frame258.jpg.json to eb63fa11-frame258.json\n",
            "Renamed c4872393-frame24.jpg.json to c4872393-frame24.json\n",
            "Renamed d05f0af5-frame117.jpg.json to d05f0af5-frame117.json\n",
            "Renamed 47eeb9bf-frame26.jpg.json to 47eeb9bf-frame26.json\n",
            "Renamed ba9fb697-frame30.jpg.json to ba9fb697-frame30.json\n",
            "Renamed a5a801f8-frame282.jpg.json to a5a801f8-frame282.json\n",
            "Renamed e1a477dc-frame69.jpg.json to e1a477dc-frame69.json\n",
            "Renamed 857d552c-frame91.jpg.json to 857d552c-frame91.json\n",
            "Renamed 5665d33a-frame221.jpg.json to 5665d33a-frame221.json\n",
            "Renamed 794c6711-frame175.jpg.json to 794c6711-frame175.json\n",
            "Renamed 9758edab-frame23.jpg.json to 9758edab-frame23.json\n",
            "Renamed 61742fc1-frame11.jpg.json to 61742fc1-frame11.json\n",
            "Renamed f12aae29-frame176.jpg.json to f12aae29-frame176.json\n",
            "Renamed f6727398-frame51.jpg.json to f6727398-frame51.json\n",
            "Renamed d73046ea-frame57.jpg.json to d73046ea-frame57.json\n",
            "Renamed a5731a45-frame131.jpg.json to a5731a45-frame131.json\n",
            "Renamed d33cefaa-frame5.jpg.json to d33cefaa-frame5.json\n",
            "Renamed e19f3d12-frame41.jpg.json to e19f3d12-frame41.json\n",
            "Renamed d1dc41c5-frame79.jpg.json to d1dc41c5-frame79.json\n",
            "Renamed 4607e5ee-frame82.jpg.json to 4607e5ee-frame82.json\n",
            "Renamed 72ae1eeb-frame205.jpg.json to 72ae1eeb-frame205.json\n",
            "Renamed 78bd4e20-frame259.jpg.json to 78bd4e20-frame259.json\n",
            "Renamed 02e37677-frame185.jpg.json to 02e37677-frame185.json\n",
            "Renamed fd16291b-frame141.jpg.json to fd16291b-frame141.json\n",
            "Renamed 7b2eb732-frame7.jpg.json to 7b2eb732-frame7.json\n",
            "Renamed 564c91da-frame275.jpg.json to 564c91da-frame275.json\n",
            "Renamed ed307cbb-frame294.jpg.json to ed307cbb-frame294.json\n",
            "Renamed 34f17827-frame40.jpg.json to 34f17827-frame40.json\n",
            "Renamed c68e67bc-frame15.jpg.json to c68e67bc-frame15.json\n",
            "Renamed 282166c2-frame137.jpg.json to 282166c2-frame137.json\n",
            "Renamed 4e7eadf5-frame274.jpg.json to 4e7eadf5-frame274.json\n",
            "Renamed 4898ccb6-frame270.jpg.json to 4898ccb6-frame270.json\n",
            "Renamed 1c116644-frame25.jpg.json to 1c116644-frame25.json\n",
            "Renamed 40a32ec2-frame115.jpg.json to 40a32ec2-frame115.json\n",
            "Renamed 8b035844-frame90.jpg.json to 8b035844-frame90.json\n",
            "Renamed e213d6b4-frame59.jpg.json to e213d6b4-frame59.json\n",
            "Renamed 72ebb5ff-frame125.jpg.json to 72ebb5ff-frame125.json\n",
            "Renamed fbf232e3-frame94.jpg.json to fbf232e3-frame94.json\n",
            "Renamed 524ad48a-frame14.jpg.json to 524ad48a-frame14.json\n",
            "Renamed 8c2ae695-frame142.jpg.json to 8c2ae695-frame142.json\n",
            "Renamed dfb7f935-frame38.jpg.json to dfb7f935-frame38.json\n",
            "Renamed b8a82efb-frame244.jpg.json to b8a82efb-frame244.json\n",
            "Renamed d6fc17be-frame21.jpg.json to d6fc17be-frame21.json\n",
            "Renamed 86ecd498-frame220.jpg.json to 86ecd498-frame220.json\n",
            "Renamed a5a058c3-frame64.jpg.json to a5a058c3-frame64.json\n",
            "Renamed 917fd222-frame161.jpg.json to 917fd222-frame161.json\n",
            "Renamed e00e3b4e-frame287.jpg.json to e00e3b4e-frame287.json\n",
            "Renamed a8aedccd-frame58.jpg.json to a8aedccd-frame58.json\n",
            "Renamed 01e0c096-frame20.jpg.json to 01e0c096-frame20.json\n",
            "Renamed 302f8c18-frame218.jpg.json to 302f8c18-frame218.json\n",
            "Renamed 8919f7d7-frame260.jpg.json to 8919f7d7-frame260.json\n",
            "Renamed 0e4f922e-frame193.jpg.json to 0e4f922e-frame193.json\n",
            "Renamed d02a47f8-frame198.jpg.json to d02a47f8-frame198.json\n",
            "Renamed d42bb7e7-frame239.jpg.json to d42bb7e7-frame239.json\n",
            "Renamed b3f60c0f-frame84.jpg.json to b3f60c0f-frame84.json\n",
            "Renamed 1bad4f69-frame163.jpg.json to 1bad4f69-frame163.json\n",
            "Renamed 6818ec06-frame151.jpg.json to 6818ec06-frame151.json\n",
            "Renamed 8227fd9e-frame83.jpg.json to 8227fd9e-frame83.json\n",
            "Renamed a2e9c09b-frame48.jpg.json to a2e9c09b-frame48.json\n",
            "Renamed b2badbb6-frame152.jpg.json to b2badbb6-frame152.json\n",
            "Renamed b1935bf2-frame226.jpg.json to b1935bf2-frame226.json\n",
            "Renamed 94fccb85-frame179.jpg.json to 94fccb85-frame179.json\n",
            "Renamed 21437695-frame232.jpg.json to 21437695-frame232.json\n",
            "Renamed 92f9460d-frame187.jpg.json to 92f9460d-frame187.json\n",
            "Renamed 16bcabdb-frame248.jpg.json to 16bcabdb-frame248.json\n",
            "Renamed 7d6df36f-frame184.jpg.json to 7d6df36f-frame184.json\n",
            "Renamed 69dfe03a-frame12.jpg.json to 69dfe03a-frame12.json\n",
            "Renamed 9ae74cbc-frame243.jpg.json to 9ae74cbc-frame243.json\n",
            "Renamed 001ebfeb-frame288.jpg.json to 001ebfeb-frame288.json\n",
            "Renamed 349152b0-frame267.jpg.json to 349152b0-frame267.json\n",
            "Renamed fc8a8b42-frame8.jpg.json to fc8a8b42-frame8.json\n",
            "Renamed 1b1f9f5b-frame23.jpg.json to 1b1f9f5b-frame23.json\n",
            "Renamed e1d178e3-frame150.jpg.json to e1d178e3-frame150.json\n",
            "Renamed 4f3b0d17-frame254.jpg.json to 4f3b0d17-frame254.json\n",
            "Renamed aace48fd-frame35.jpg.json to aace48fd-frame35.json\n",
            "Renamed 7c3fcfd5-frame199.jpg.json to 7c3fcfd5-frame199.json\n",
            "Renamed da18e42f-frame104.jpg.json to da18e42f-frame104.json\n",
            "Renamed 29be8e5a-frame108.jpg.json to 29be8e5a-frame108.json\n",
            "Renamed 7cffc3ac-frame262.jpg.json to 7cffc3ac-frame262.json\n",
            "Renamed 6015b3fb-frame109.jpg.json to 6015b3fb-frame109.json\n",
            "Renamed 2ae42831-frame53.jpg.json to 2ae42831-frame53.json\n",
            "Renamed 336ee1fb-frame122.jpg.json to 336ee1fb-frame122.json\n",
            "Renamed 5f02d240-frame190.jpg.json to 5f02d240-frame190.json\n",
            "Renamed 5dc3d070-frame37.jpg.json to 5dc3d070-frame37.json\n",
            "Renamed 06c283ec-frame261.jpg.json to 06c283ec-frame261.json\n",
            "Renamed cc284802-frame31.jpg.json to cc284802-frame31.json\n",
            "Renamed 7a175f43-frame76.jpg.json to 7a175f43-frame76.json\n",
            "Renamed 1b604b97-frame120.jpg.json to 1b604b97-frame120.json\n",
            "Renamed 7051364e-frame24.jpg.json to 7051364e-frame24.json\n",
            "Renamed c00b0205-frame114.jpg.json to c00b0205-frame114.json\n",
            "Renamed 2f68a67a-frame295.jpg.json to 2f68a67a-frame295.json\n",
            "Renamed ac953f20-frame186.jpg.json to ac953f20-frame186.json\n",
            "Renamed 61fe59ec-frame28.jpg.json to 61fe59ec-frame28.json\n",
            "Renamed eaa8ac0b-frame224.jpg.json to eaa8ac0b-frame224.json\n",
            "Renamed 4f35d53e-frame124.jpg.json to 4f35d53e-frame124.json\n",
            "Renamed 51a2655c-frame61.jpg.json to 51a2655c-frame61.json\n",
            "Renamed d03e59e2-frame22.jpg.json to d03e59e2-frame22.json\n",
            "Renamed c6bdc4a0-frame212.jpg.json to c6bdc4a0-frame212.json\n",
            "Renamed 497837e8-frame196.jpg.json to 497837e8-frame196.json\n",
            "Renamed 6ba735ec-frame127.jpg.json to 6ba735ec-frame127.json\n",
            "Renamed cf8d90ef-frame73.jpg.json to cf8d90ef-frame73.json\n",
            "Renamed 429b1b17-frame182.jpg.json to 429b1b17-frame182.json\n",
            "Renamed 10355730-frame89.jpg.json to 10355730-frame89.json\n",
            "Renamed 563bc732-frame148.jpg.json to 563bc732-frame148.json\n",
            "Renamed 59709ec5-frame214.jpg.json to 59709ec5-frame214.json\n",
            "Renamed 5666845d-frame140.jpg.json to 5666845d-frame140.json\n",
            "Renamed 3dc3e7af-frame159.jpg.json to 3dc3e7af-frame159.json\n",
            "Renamed ad7a068b-frame284.jpg.json to ad7a068b-frame284.json\n",
            "Renamed 5659ed17-frame71.jpg.json to 5659ed17-frame71.json\n",
            "Renamed 66296730-frame247.jpg.json to 66296730-frame247.json\n",
            "Renamed 97435118-frame219.jpg.json to 97435118-frame219.json\n",
            "Renamed e870fbbb-frame153.jpg.json to e870fbbb-frame153.json\n",
            "Renamed bcae4b0f-frame263.jpg.json to bcae4b0f-frame263.json\n",
            "Renamed 5b83976e-frame103.jpg.json to 5b83976e-frame103.json\n",
            "Renamed dd68fc81-frame126.jpg.json to dd68fc81-frame126.json\n",
            "Renamed a59ac5b1-frame13.jpg.json to a59ac5b1-frame13.json\n",
            "Renamed 2c4eedc2-frame291.jpg.json to 2c4eedc2-frame291.json\n",
            "Renamed c3fd1a93-frame6.jpg.json to c3fd1a93-frame6.json\n",
            "Renamed 07fee6f6-frame130.jpg.json to 07fee6f6-frame130.json\n",
            "Renamed 119ab0ee-frame98.jpg.json to 119ab0ee-frame98.json\n",
            "Renamed e77b23e2-frame200.jpg.json to e77b23e2-frame200.json\n",
            "Renamed 79937e0b-frame65.jpg.json to 79937e0b-frame65.json\n",
            "Renamed 4a501208-frame158.jpg.json to 4a501208-frame158.json\n",
            "Renamed de62230f-frame217.jpg.json to de62230f-frame217.json\n",
            "Renamed df0a6d67-frame245.jpg.json to df0a6d67-frame245.json\n",
            "Renamed 9e056522-frame144.jpg.json to 9e056522-frame144.json\n",
            "Renamed 95ea97b5-frame44.jpg.json to 95ea97b5-frame44.json\n",
            "Renamed f4b5499a-frame204.jpg.json to f4b5499a-frame204.json\n",
            "Renamed e0d1b867-frame106.jpg.json to e0d1b867-frame106.json\n",
            "Renamed 2fc1855b-frame189.jpg.json to 2fc1855b-frame189.json\n",
            "Renamed 2feac7fc-frame29.jpg.json to 2feac7fc-frame29.json\n",
            "Renamed 9d320133-frame77.jpg.json to 9d320133-frame77.json\n",
            "Renamed 5e2c25e0-frame272.jpg.json to 5e2c25e0-frame272.json\n",
            "Renamed c4a305b4-frame139.jpg.json to c4a305b4-frame139.json\n",
            "Renamed 07f1d2fc-frame96.jpg.json to 07f1d2fc-frame96.json\n",
            "Renamed 06a46543-frame49.jpg.json to 06a46543-frame49.json\n",
            "Renamed 2fb1bf1f-frame88.jpg.json to 2fb1bf1f-frame88.json\n",
            "Renamed ff7955b4-frame14.jpg.json to ff7955b4-frame14.json\n",
            "Renamed b9ab7849-frame25.jpg.json to b9ab7849-frame25.json\n",
            "Renamed 3ea8f52c-frame60.jpg.json to 3ea8f52c-frame60.json\n",
            "Renamed 76f3f09b-frame167.jpg.json to 76f3f09b-frame167.json\n",
            "Renamed a83a908e-frame278.jpg.json to a83a908e-frame278.json\n",
            "Renamed 967af749-frame234.jpg.json to 967af749-frame234.json\n",
            "Renamed b4c3121b-frame18.jpg.json to b4c3121b-frame18.json\n",
            "Renamed 4908f572-frame257.jpg.json to 4908f572-frame257.json\n",
            "Renamed 1de611e1-frame11.jpg.json to 1de611e1-frame11.json\n",
            "Renamed adcb5c26-frame78.jpg.json to adcb5c26-frame78.json\n",
            "Renamed 9d4caaba-frame135.jpg.json to 9d4caaba-frame135.json\n",
            "Renamed c55f81bc-frame271.jpg.json to c55f81bc-frame271.json\n",
            "Renamed 0b160dbc-frame45.jpg.json to 0b160dbc-frame45.json\n",
            "Renamed ff62e481-frame273.jpg.json to ff62e481-frame273.json\n",
            "Renamed e8b04ac9-frame227.jpg.json to e8b04ac9-frame227.json\n",
            "Renamed 3a033364-frame147.jpg.json to 3a033364-frame147.json\n",
            "Renamed e509854e-frame168.jpg.json to e509854e-frame168.json\n",
            "Renamed 89bc1eba-frame195.jpg.json to 89bc1eba-frame195.json\n",
            "Renamed a3729e20-frame116.jpg.json to a3729e20-frame116.json\n",
            "Renamed b359a4b1-frame75.jpg.json to b359a4b1-frame75.json\n",
            "Renamed f54d4787-frame279.jpg.json to f54d4787-frame279.json\n",
            "Total images found: 318\n"
          ]
        }
      ],
      "source": [
        "import os, shutil, random, json\n",
        "\n",
        "# Set seed for reproducibility\n",
        "random.seed(42)\n",
        "\n",
        "# Define raw dataset directories\n",
        "base_dir = '/content/construction_equipment_dataset'\n",
        "orig_images_dir = os.path.join(base_dir, 'img')\n",
        "orig_ann_dir = os.path.join(base_dir, 'ann')  # JSON annotations\n",
        "\n",
        "for filename in os.listdir(orig_ann_dir):\n",
        "    if filename.endswith('.jpg.json'):\n",
        "        new_filename = filename.replace('.jpg.json', '.json')\n",
        "        old_path = os.path.join(orig_ann_dir, filename)\n",
        "        new_path = os.path.join(orig_ann_dir, new_filename)\n",
        "        os.rename(old_path, new_path)\n",
        "        # print(f\"Renamed {filename} to {new_filename}\")\n",
        "\n",
        "# Create directories for train, val, and test splits (each with 'images' and 'labels')\n",
        "splits = ['train', 'val', 'test']\n",
        "for split in splits:\n",
        "    os.makedirs(os.path.join(base_dir, split, 'images'), exist_ok=True)\n",
        "    os.makedirs(os.path.join(base_dir, split, 'labels'), exist_ok=True)\n",
        "\n",
        "# List all image files (assuming .jpg)\n",
        "all_images = [f for f in os.listdir(orig_images_dir) if f.endswith('.jpg')]\n",
        "total_images = len(all_images)\n",
        "print(f\"Total images found: {total_images}\")"
      ]
    },
    {
      "cell_type": "markdown",
      "id": "43c6f2a6-d6f7-432e-894c-e469fefcce3d",
      "metadata": {
        "id": "43c6f2a6-d6f7-432e-894c-e469fefcce3d"
      },
      "source": [
        "#### Shuffle and split images: 80% train, 10% val, 10% test"
      ]
    },
    {
      "cell_type": "code",
      "execution_count": 54,
      "id": "e743afce-f3a6-47cd-bd9d-30dbabbd13ea",
      "metadata": {
        "colab": {
          "base_uri": "https://localhost:8080/"
        },
        "id": "e743afce-f3a6-47cd-bd9d-30dbabbd13ea",
        "outputId": "0461e2dd-9e14-4e85-cf9a-7e4220793dc9"
      },
      "outputs": [
        {
          "output_type": "stream",
          "name": "stdout",
          "text": [
            "Dataset splits -> Train: 254, Val: 32, Test: 32\n"
          ]
        }
      ],
      "source": [
        "# Shuffle and split images: 80% train, 10% val, 10% test\n",
        "random.shuffle(all_images)\n",
        "train_end = int(0.8 * total_images)\n",
        "val_end = int(0.9 * total_images)\n",
        "train_imgs = all_images[:train_end]\n",
        "val_imgs = all_images[train_end:val_end]\n",
        "test_imgs = all_images[val_end:]\n",
        "print(f\"Dataset splits -> Train: {len(train_imgs)}, Val: {len(val_imgs)}, Test: {len(test_imgs)}\")"
      ]
    },
    {
      "cell_type": "markdown",
      "id": "b3dccdec-df5d-422a-a705-d48f257d3339",
      "metadata": {
        "id": "b3dccdec-df5d-422a-a705-d48f257d3339"
      },
      "source": [
        "### [Important!!!] Define class names (update as needed, e.g., 'vehicle', 'machine')"
      ]
    },
    {
      "cell_type": "markdown",
      "source": [
        "Before setting up the training, let's scan the JSON annotation files (in `ann`) to print out all unique class names. Update the `classes` variable accordingly."
      ],
      "metadata": {
        "id": "uPmKXCcymSzD"
      },
      "id": "uPmKXCcymSzD"
    },
    {
      "cell_type": "code",
      "source": [
        "import glob\n",
        "\n",
        "# Gather all JSON files in the annotation folder\n",
        "json_files = glob.glob(os.path.join(orig_ann_dir, '*.json'))\n",
        "\n",
        "unique_classes = set()\n",
        "\n",
        "for jf in json_files:\n",
        "    with open(jf, 'r') as f:\n",
        "        data = json.load(f)\n",
        "    # In this dataset, annotations are under the key 'objects' and class names are stored in 'classTitle'\n",
        "    for obj in data.get(\"objects\", []):\n",
        "        cls = obj.get(\"classTitle\")\n",
        "        if cls:\n",
        "            unique_classes.add(cls)\n",
        "\n",
        "print(\"Unique class names found in the dataset:\")\n",
        "for cls in sorted(unique_classes):\n",
        "    print(\" -\", cls)\n",
        "\n",
        "# Now update the classes variable (e.g., if the dataset contains excavator, truck)\n",
        "classes = sorted(unique_classes)\n",
        "print(\"Updated classes:\", classes)"
      ],
      "metadata": {
        "colab": {
          "base_uri": "https://localhost:8080/"
        },
        "id": "rUQWqYrEkI_m",
        "outputId": "a28233a7-dd90-4039-ae05-f4e1a03dab3b"
      },
      "id": "rUQWqYrEkI_m",
      "execution_count": 55,
      "outputs": [
        {
          "output_type": "stream",
          "name": "stdout",
          "text": [
            "Unique class names found in the dataset:\n",
            " - crane\n",
            " - excavator\n",
            " - other\n",
            " - tractor\n",
            " - truck\n",
            "Updated classes: ['crane', 'excavator', 'other', 'tractor', 'truck']\n"
          ]
        }
      ]
    },
    {
      "cell_type": "code",
      "execution_count": 56,
      "id": "67f6bd84-8032-4551-b23b-9c726894fece",
      "metadata": {
        "id": "67f6bd84-8032-4551-b23b-9c726894fece"
      },
      "outputs": [],
      "source": [
        "# Define class names (update as needed, e.g., 'vehicle', 'machine')\n",
        "classes = ['crane', 'excavator', 'other', 'tractor', 'truck']"
      ]
    },
    {
      "cell_type": "code",
      "execution_count": 59,
      "id": "bb4a8a90-d6f4-4680-891e-b49182a92017",
      "metadata": {
        "colab": {
          "base_uri": "https://localhost:8080/"
        },
        "id": "bb4a8a90-d6f4-4680-891e-b49182a92017",
        "outputId": "ccc9fe6f-dc85-43f1-b7bd-11e5e4d01bdd"
      },
      "outputs": [
        {
          "output_type": "stream",
          "name": "stdout",
          "text": [
            "Dataset split and JSON annotations converted to YOLO format (labels folder).\n"
          ]
        }
      ],
      "source": [
        "def convert_json_to_yolo(json_file, classes, image_file):\n",
        "    \"\"\"\n",
        "    Expected JSON structure:\n",
        "    {\n",
        "        \"size\": {\"width\": ..., \"height\": ...},\n",
        "        \"objects\": [\n",
        "             {\"classTitle\": \"excavator\", \"points\": {\"exterior\": [[xmin, ymin], [xmax, ymax]]}, ...},\n",
        "             ...\n",
        "        ]\n",
        "    }\n",
        "    \"\"\"\n",
        "    with open(json_file, 'r') as f:\n",
        "        data = json.load(f)\n",
        "    # Get image dimensions\n",
        "    if \"size\" in data and \"width\" in data[\"size\"] and \"height\" in data[\"size\"]:\n",
        "        width = float(data[\"size\"][\"width\"])\n",
        "        height = float(data[\"size\"][\"height\"])\n",
        "    else:\n",
        "        img = cv2.imread(image_file)\n",
        "        height, width = img.shape[:2]\n",
        "\n",
        "    yolo_lines = []\n",
        "    for obj in data.get(\"objects\", []):\n",
        "        cls = obj.get(\"classTitle\")\n",
        "        if cls not in classes:\n",
        "            continue\n",
        "        cls_id = classes.index(cls)\n",
        "        # Assume bounding box is in \"points\"->\"exterior\" with two points: top-left and bottom-right\n",
        "        points = obj.get(\"points\", {}).get(\"exterior\", [])\n",
        "        if len(points) < 2:\n",
        "            continue\n",
        "        xmin, ymin = points[0]\n",
        "        xmax, ymax = points[1]\n",
        "        x_center = ((xmin + xmax) / 2) / width\n",
        "        y_center = ((ymin + ymax) / 2) / height\n",
        "        bbox_width = (xmax - xmin) / width\n",
        "        bbox_height = (ymax - ymin) / height\n",
        "        yolo_lines.append(f\"{cls_id} {x_center:.6f} {y_center:.6f} {bbox_width:.6f} {bbox_height:.6f}\")\n",
        "    return yolo_lines\n",
        "\n",
        "def copy_and_convert_files(file_list, src_images, src_ann, dest_split):\n",
        "    dest_img = os.path.join(base_dir, dest_split, 'images')\n",
        "    dest_lbl = os.path.join(base_dir, dest_split, 'labels')\n",
        "    for fname in file_list:\n",
        "        # Copy image\n",
        "        shutil.copy(os.path.join(src_images, fname), dest_img)\n",
        "        base_name = os.path.splitext(fname)[0]\n",
        "        # For annotation, use the full filename with '.json' appended\n",
        "        json_file = os.path.join(src_ann, base_name + '.json')\n",
        "        image_file = os.path.join(src_images, fname)\n",
        "        if os.path.exists(json_file):\n",
        "            yolo_lines = convert_json_to_yolo(json_file, classes, image_file)\n",
        "            if yolo_lines:\n",
        "                with open(os.path.join(dest_lbl, fname + '.txt'), 'w') as f:\n",
        "                    f.write(\"\\n\".join(yolo_lines))\n",
        "        else:\n",
        "            print(f\"Warning: No annotation found for {fname}\")\n",
        "\n",
        "copy_and_convert_files(train_imgs, orig_images_dir, orig_ann_dir, 'train')\n",
        "copy_and_convert_files(val_imgs, orig_images_dir, orig_ann_dir, 'val')\n",
        "copy_and_convert_files(test_imgs, orig_images_dir, orig_ann_dir, 'test')\n",
        "print(\"Dataset split and JSON annotations converted to YOLO format (labels folder).\")"
      ]
    },
    {
      "cell_type": "code",
      "execution_count": 60,
      "id": "81d77724-15b1-457b-9527-992159ec1499",
      "metadata": {
        "colab": {
          "base_uri": "https://localhost:8080/"
        },
        "id": "81d77724-15b1-457b-9527-992159ec1499",
        "outputId": "3d8f8f7b-c19b-4ff1-bb1a-2c9542e9421a"
      },
      "outputs": [
        {
          "output_type": "stream",
          "name": "stdout",
          "text": [
            "Train - Images: 254, Labels: 509\n",
            "Val - Images: 32, Labels: 64\n",
            "Test - Images: 32, Labels: 64\n"
          ]
        }
      ],
      "source": [
        "for split in splits:\n",
        "    images_count = len(os.listdir(os.path.join(base_dir, split, 'images')))\n",
        "    labels_count = len(os.listdir(os.path.join(base_dir, split, 'labels')))\n",
        "    print(f\"{split.capitalize()} - Images: {images_count}, Labels: {labels_count}\")"
      ]
    },
    {
      "cell_type": "markdown",
      "id": "da6c1f1d6a178020",
      "metadata": {
        "id": "da6c1f1d6a178020"
      },
      "source": [
        "## Step 3: Create YOLOv5 Dataset Configuration\n",
        "\n",
        "Create a YAML configuration file (`construction_equipment.yaml`) for YOLOv5 that points to your training and validation sets and lists the class names."
      ]
    },
    {
      "cell_type": "code",
      "execution_count": 61,
      "id": "7244402906220b1",
      "metadata": {
        "colab": {
          "base_uri": "https://localhost:8080/"
        },
        "id": "7244402906220b1",
        "outputId": "02ad804f-9289-43a7-8805-a34dfcd9aae1"
      },
      "outputs": [
        {
          "output_type": "stream",
          "name": "stdout",
          "text": [
            "Created YOLOv5 dataset configuration file: construction_equipment.yaml\n"
          ]
        }
      ],
      "source": [
        "import yaml\n",
        "\n",
        "config_data = {\n",
        "    'train': os.path.join(base_dir, 'train', 'images'),\n",
        "    'val': os.path.join(base_dir, 'val', 'images'),\n",
        "    'test': os.path.join(base_dir, 'test', 'images'),\n",
        "    'names': classes,\n",
        "    'nc': len(classes)\n",
        "}\n",
        "\n",
        "with open('construction_equipment.yaml', 'w') as f:\n",
        "    yaml.dump(config_data, f)\n",
        "print(\"Created YOLOv5 dataset configuration file: construction_equipment.yaml\")"
      ]
    },
    {
      "cell_type": "markdown",
      "id": "d507ea93af3e1863",
      "metadata": {
        "id": "d507ea93af3e1863"
      },
      "source": [
        "## Step 4: Set Up YOLOv5 Environment\n",
        "\n",
        "Clone the YOLOv5 repository and install dependencies. This is designed to run in Google Colab."
      ]
    },
    {
      "cell_type": "code",
      "execution_count": 24,
      "id": "4a1cf3c908505137",
      "metadata": {
        "colab": {
          "base_uri": "https://localhost:8080/"
        },
        "id": "4a1cf3c908505137",
        "outputId": "9ded47df-3640-4a7f-d788-4b4ee4763be6"
      },
      "outputs": [
        {
          "output_type": "stream",
          "name": "stdout",
          "text": [
            "Running in Colab? True\n",
            "Cloning into 'yolov5'...\n",
            "remote: Enumerating objects: 17270, done.\u001b[K\n",
            "remote: Counting objects: 100% (1/1), done.\u001b[K\n",
            "remote: Total 17270 (delta 0), reused 0 (delta 0), pack-reused 17269 (from 2)\u001b[K\n",
            "Receiving objects: 100% (17270/17270), 16.12 MiB | 17.94 MiB/s, done.\n",
            "Resolving deltas: 100% (11858/11858), done.\n",
            "/content/yolov5/yolov5\n",
            "Requirement already satisfied: gitpython>=3.1.30 in /usr/local/lib/python3.11/dist-packages (from -r requirements.txt (line 5)) (3.1.44)\n",
            "Requirement already satisfied: matplotlib>=3.3 in /usr/local/lib/python3.11/dist-packages (from -r requirements.txt (line 6)) (3.10.0)\n",
            "Requirement already satisfied: numpy>=1.23.5 in /usr/local/lib/python3.11/dist-packages (from -r requirements.txt (line 7)) (1.26.4)\n",
            "Requirement already satisfied: opencv-python>=4.1.1 in /usr/local/lib/python3.11/dist-packages (from -r requirements.txt (line 8)) (4.11.0.86)\n",
            "Requirement already satisfied: pillow>=10.3.0 in /usr/local/lib/python3.11/dist-packages (from -r requirements.txt (line 9)) (11.1.0)\n",
            "Requirement already satisfied: psutil in /usr/local/lib/python3.11/dist-packages (from -r requirements.txt (line 10)) (5.9.5)\n",
            "Requirement already satisfied: PyYAML>=5.3.1 in /usr/local/lib/python3.11/dist-packages (from -r requirements.txt (line 11)) (6.0.2)\n",
            "Requirement already satisfied: requests>=2.32.2 in /usr/local/lib/python3.11/dist-packages (from -r requirements.txt (line 12)) (2.32.3)\n",
            "Requirement already satisfied: scipy>=1.4.1 in /usr/local/lib/python3.11/dist-packages (from -r requirements.txt (line 13)) (1.13.1)\n",
            "Requirement already satisfied: thop>=0.1.1 in /usr/local/lib/python3.11/dist-packages (from -r requirements.txt (line 14)) (0.1.1.post2209072238)\n",
            "Requirement already satisfied: torch>=1.8.0 in /usr/local/lib/python3.11/dist-packages (from -r requirements.txt (line 15)) (2.5.1+cu124)\n",
            "Requirement already satisfied: torchvision>=0.9.0 in /usr/local/lib/python3.11/dist-packages (from -r requirements.txt (line 16)) (0.20.1+cu124)\n",
            "Requirement already satisfied: tqdm>=4.66.3 in /usr/local/lib/python3.11/dist-packages (from -r requirements.txt (line 17)) (4.67.1)\n",
            "Requirement already satisfied: ultralytics>=8.2.34 in /usr/local/lib/python3.11/dist-packages (from -r requirements.txt (line 18)) (8.3.75)\n",
            "Requirement already satisfied: pandas>=1.1.4 in /usr/local/lib/python3.11/dist-packages (from -r requirements.txt (line 27)) (2.2.2)\n",
            "Requirement already satisfied: seaborn>=0.11.0 in /usr/local/lib/python3.11/dist-packages (from -r requirements.txt (line 28)) (0.13.2)\n",
            "Requirement already satisfied: setuptools>=70.0.0 in /usr/local/lib/python3.11/dist-packages (from -r requirements.txt (line 42)) (75.1.0)\n",
            "Requirement already satisfied: gitdb<5,>=4.0.1 in /usr/local/lib/python3.11/dist-packages (from gitpython>=3.1.30->-r requirements.txt (line 5)) (4.0.12)\n",
            "Requirement already satisfied: contourpy>=1.0.1 in /usr/local/lib/python3.11/dist-packages (from matplotlib>=3.3->-r requirements.txt (line 6)) (1.3.1)\n",
            "Requirement already satisfied: cycler>=0.10 in /usr/local/lib/python3.11/dist-packages (from matplotlib>=3.3->-r requirements.txt (line 6)) (0.12.1)\n",
            "Requirement already satisfied: fonttools>=4.22.0 in /usr/local/lib/python3.11/dist-packages (from matplotlib>=3.3->-r requirements.txt (line 6)) (4.56.0)\n",
            "Requirement already satisfied: kiwisolver>=1.3.1 in /usr/local/lib/python3.11/dist-packages (from matplotlib>=3.3->-r requirements.txt (line 6)) (1.4.8)\n",
            "Requirement already satisfied: packaging>=20.0 in /usr/local/lib/python3.11/dist-packages (from matplotlib>=3.3->-r requirements.txt (line 6)) (24.2)\n",
            "Requirement already satisfied: pyparsing>=2.3.1 in /usr/local/lib/python3.11/dist-packages (from matplotlib>=3.3->-r requirements.txt (line 6)) (3.2.1)\n",
            "Requirement already satisfied: python-dateutil>=2.7 in /usr/local/lib/python3.11/dist-packages (from matplotlib>=3.3->-r requirements.txt (line 6)) (2.8.2)\n",
            "Requirement already satisfied: charset-normalizer<4,>=2 in /usr/local/lib/python3.11/dist-packages (from requests>=2.32.2->-r requirements.txt (line 12)) (3.4.1)\n",
            "Requirement already satisfied: idna<4,>=2.5 in /usr/local/lib/python3.11/dist-packages (from requests>=2.32.2->-r requirements.txt (line 12)) (3.10)\n",
            "Requirement already satisfied: urllib3<3,>=1.21.1 in /usr/local/lib/python3.11/dist-packages (from requests>=2.32.2->-r requirements.txt (line 12)) (2.3.0)\n",
            "Requirement already satisfied: certifi>=2017.4.17 in /usr/local/lib/python3.11/dist-packages (from requests>=2.32.2->-r requirements.txt (line 12)) (2025.1.31)\n",
            "Requirement already satisfied: filelock in /usr/local/lib/python3.11/dist-packages (from torch>=1.8.0->-r requirements.txt (line 15)) (3.17.0)\n",
            "Requirement already satisfied: typing-extensions>=4.8.0 in /usr/local/lib/python3.11/dist-packages (from torch>=1.8.0->-r requirements.txt (line 15)) (4.12.2)\n",
            "Requirement already satisfied: networkx in /usr/local/lib/python3.11/dist-packages (from torch>=1.8.0->-r requirements.txt (line 15)) (3.4.2)\n",
            "Requirement already satisfied: jinja2 in /usr/local/lib/python3.11/dist-packages (from torch>=1.8.0->-r requirements.txt (line 15)) (3.1.5)\n",
            "Requirement already satisfied: fsspec in /usr/local/lib/python3.11/dist-packages (from torch>=1.8.0->-r requirements.txt (line 15)) (2024.10.0)\n",
            "Requirement already satisfied: nvidia-cuda-nvrtc-cu12==12.4.127 in /usr/local/lib/python3.11/dist-packages (from torch>=1.8.0->-r requirements.txt (line 15)) (12.4.127)\n",
            "Requirement already satisfied: nvidia-cuda-runtime-cu12==12.4.127 in /usr/local/lib/python3.11/dist-packages (from torch>=1.8.0->-r requirements.txt (line 15)) (12.4.127)\n",
            "Requirement already satisfied: nvidia-cuda-cupti-cu12==12.4.127 in /usr/local/lib/python3.11/dist-packages (from torch>=1.8.0->-r requirements.txt (line 15)) (12.4.127)\n",
            "Requirement already satisfied: nvidia-cudnn-cu12==9.1.0.70 in /usr/local/lib/python3.11/dist-packages (from torch>=1.8.0->-r requirements.txt (line 15)) (9.1.0.70)\n",
            "Requirement already satisfied: nvidia-cublas-cu12==12.4.5.8 in /usr/local/lib/python3.11/dist-packages (from torch>=1.8.0->-r requirements.txt (line 15)) (12.4.5.8)\n",
            "Requirement already satisfied: nvidia-cufft-cu12==11.2.1.3 in /usr/local/lib/python3.11/dist-packages (from torch>=1.8.0->-r requirements.txt (line 15)) (11.2.1.3)\n",
            "Requirement already satisfied: nvidia-curand-cu12==10.3.5.147 in /usr/local/lib/python3.11/dist-packages (from torch>=1.8.0->-r requirements.txt (line 15)) (10.3.5.147)\n",
            "Requirement already satisfied: nvidia-cusolver-cu12==11.6.1.9 in /usr/local/lib/python3.11/dist-packages (from torch>=1.8.0->-r requirements.txt (line 15)) (11.6.1.9)\n",
            "Requirement already satisfied: nvidia-cusparse-cu12==12.3.1.170 in /usr/local/lib/python3.11/dist-packages (from torch>=1.8.0->-r requirements.txt (line 15)) (12.3.1.170)\n",
            "Requirement already satisfied: nvidia-nccl-cu12==2.21.5 in /usr/local/lib/python3.11/dist-packages (from torch>=1.8.0->-r requirements.txt (line 15)) (2.21.5)\n",
            "Requirement already satisfied: nvidia-nvtx-cu12==12.4.127 in /usr/local/lib/python3.11/dist-packages (from torch>=1.8.0->-r requirements.txt (line 15)) (12.4.127)\n",
            "Requirement already satisfied: nvidia-nvjitlink-cu12==12.4.127 in /usr/local/lib/python3.11/dist-packages (from torch>=1.8.0->-r requirements.txt (line 15)) (12.4.127)\n",
            "Requirement already satisfied: triton==3.1.0 in /usr/local/lib/python3.11/dist-packages (from torch>=1.8.0->-r requirements.txt (line 15)) (3.1.0)\n",
            "Requirement already satisfied: sympy==1.13.1 in /usr/local/lib/python3.11/dist-packages (from torch>=1.8.0->-r requirements.txt (line 15)) (1.13.1)\n",
            "Requirement already satisfied: mpmath<1.4,>=1.1.0 in /usr/local/lib/python3.11/dist-packages (from sympy==1.13.1->torch>=1.8.0->-r requirements.txt (line 15)) (1.3.0)\n",
            "Requirement already satisfied: py-cpuinfo in /usr/local/lib/python3.11/dist-packages (from ultralytics>=8.2.34->-r requirements.txt (line 18)) (9.0.0)\n",
            "Requirement already satisfied: ultralytics-thop>=2.0.0 in /usr/local/lib/python3.11/dist-packages (from ultralytics>=8.2.34->-r requirements.txt (line 18)) (2.0.14)\n",
            "Requirement already satisfied: pytz>=2020.1 in /usr/local/lib/python3.11/dist-packages (from pandas>=1.1.4->-r requirements.txt (line 27)) (2025.1)\n",
            "Requirement already satisfied: tzdata>=2022.7 in /usr/local/lib/python3.11/dist-packages (from pandas>=1.1.4->-r requirements.txt (line 27)) (2025.1)\n",
            "Requirement already satisfied: smmap<6,>=3.0.1 in /usr/local/lib/python3.11/dist-packages (from gitdb<5,>=4.0.1->gitpython>=3.1.30->-r requirements.txt (line 5)) (5.0.2)\n",
            "Requirement already satisfied: six>=1.5 in /usr/local/lib/python3.11/dist-packages (from python-dateutil>=2.7->matplotlib>=3.3->-r requirements.txt (line 6)) (1.17.0)\n",
            "Requirement already satisfied: MarkupSafe>=2.0 in /usr/local/lib/python3.11/dist-packages (from jinja2->torch>=1.8.0->-r requirements.txt (line 15)) (3.0.2)\n"
          ]
        }
      ],
      "source": [
        "import sys\n",
        "IN_COLAB = 'google.colab' in sys.modules\n",
        "print(\"Running in Colab?\", IN_COLAB)\n",
        "\n",
        "if IN_COLAB:\n",
        "    !git clone https://github.com/ultralytics/yolov5.git\n",
        "    %cd yolov5\n",
        "    !pip install -r requirements.txt\n",
        "else:\n",
        "    print(\"Ensure YOLOv5 is installed locally.\")"
      ]
    },
    {
      "cell_type": "markdown",
      "id": "41cea8b3512353cc",
      "metadata": {
        "id": "41cea8b3512353cc"
      },
      "source": [
        "## Step 5: Train YOLOv5 Model\n",
        "\n",
        "Train the model using pretrained YOLOv5s weights. Adjust epochs and batch size as needed."
      ]
    },
    {
      "cell_type": "code",
      "execution_count": null,
      "id": "221f9eb06484f640",
      "metadata": {
        "id": "221f9eb06484f640"
      },
      "outputs": [],
      "source": [
        "if IN_COLAB:\n",
        "    %cd /content/yolov5\n",
        "    print(\"Starting training...\")\n",
        "    !python train.py --img 640 --batch 16 --epochs 10 --data /content/construction_equipment.yaml --weights yolov5s.pt --name yolo_construction_equipment_exp\n",
        "else:\n",
        "    print(\"Run the YOLOv5 training command in your local environment.\")"
      ]
    },
    {
      "cell_type": "markdown",
      "id": "d559eb935b992be9",
      "metadata": {
        "id": "d559eb935b992be9"
      },
      "source": [
        "## Step 6: Evaluate Model Performance on Test Set\n",
        "\n",
        "Since YOLOv5's `val.py` does not support a custom 'test' key by default, we create a temporary YAML config that uses the test set as the validation set. This allows us to compute performance metrics (precision, recall, mAP) on the test set."
      ]
    },
    {
      "cell_type": "code",
      "execution_count": null,
      "id": "57636afda9932514",
      "metadata": {
        "id": "57636afda9932514"
      },
      "outputs": [],
      "source": [
        "/content/construction_equipment_dataset/train/labels.cache\n",
        "temp_config = {\n",
        "    'train': os.path.join(base_dir, 'train', 'images'),  # dummy\n",
        "    'val': os.path.join(base_dir, 'test', 'images'),       # use test set for evaluation\n",
        "    'names': classes,\n",
        "    'nc': len(classes)\n",
        "}\n",
        "\n",
        "with open('temp_test.yaml', 'w') as f:\n",
        "    yaml.dump(temp_config, f)\n",
        "print(\"Created temporary YAML config (temp_test.yaml) for test evaluation.\")\n",
        "\n",
        "if IN_COLAB:\n",
        "    %cd /content/yolov5\n",
        "    print(\"Running validation on test subset (using /content/temp_test.yaml)...\")\n",
        "    !python val.py --data /content/temp_test.yaml --weights runs/train/yolo_construction_equipment_exp/weights/best.pt --img 640 --conf 0.25 --half --save-json\n",
        "else:\n",
        "    print(\"Run the validation command in your local environment.\")"
      ]
    },
    {
      "cell_type": "markdown",
      "id": "c756c6c242957845",
      "metadata": {
        "id": "c756c6c242957845"
      },
      "source": [
        "### Load and Display Evaluation Metrics\n",
        "Load the evaluation metrics from the JSON file generated by YOLOv5 and print standard metrics (precision, recall, mAP)."
      ]
    },
    {
      "cell_type": "code",
      "execution_count": null,
      "id": "550b95676314a4c7",
      "metadata": {
        "id": "550b95676314a4c7"
      },
      "outputs": [],
      "source": [
        "import json\n",
        "\n",
        "metrics_file = '/content/yolov5/runs/val/exp/results.json'\n",
        "if os.path.exists(metrics_file):\n",
        "    with open(metrics_file, 'r') as f:\n",
        "        metrics = json.load(f)\n",
        "    print(\"\\nTest Set Evaluation Metrics:\")\n",
        "    print(\"Precision:\", metrics.get(\"precision\", \"N/A\"))\n",
        "    print(\"Recall:\", metrics.get(\"recall\", \"N/A\"))\n",
        "    print(\"mAP@0.5:\", metrics.get(\"mAP50\", \"N/A\"))\n",
        "    print(\"mAP@0.5:0.95:\", metrics.get(\"mAP50-95\", \"N/A\"))\n",
        "else:\n",
        "    print(\"Metrics JSON file not found. Check the validation output folder.\")"
      ]
    },
    {
      "cell_type": "markdown",
      "id": "dad07d2672c92e3f",
      "metadata": {
        "id": "dad07d2672c92e3f"
      },
      "source": [
        "## Step 7: Inference on Test Set and Visualize Detected Results\n",
        "\n",
        "Run inference on the test set with YOLOv5 using the `--save-txt` flag (to save predicted YOLO annotations) and display the detection result images."
      ]
    },
    {
      "cell_type": "code",
      "execution_count": null,
      "id": "2dbf222a36537691",
      "metadata": {
        "id": "2dbf222a36537691"
      },
      "outputs": [],
      "source": [
        "if IN_COLAB:\n",
        "    %cd /content/yolov5\n",
        "    print(\"Running detection on test set (with --save-txt)...\")\n",
        "    !python detect.py --weights runs/train/yolo_construction_equipment_exp/weights/best.pt --img 640 --conf 0.25 --save-txt --source ../construction_equipment_dataset/test/img --name test_inference\n",
        "else:\n",
        "    print(\"Run the detection command in your local environment.\")"
      ]
    },
    {
      "cell_type": "markdown",
      "id": "c274e804d9ae11ae",
      "metadata": {
        "id": "c274e804d9ae11ae"
      },
      "source": [
        "### Display Detected Results\n",
        "Display a few detected result images (with bounding boxes drawn) from the YOLOv5 output folder."
      ]
    },
    {
      "cell_type": "code",
      "execution_count": null,
      "id": "6e28b2f99ce5fe88",
      "metadata": {
        "id": "6e28b2f99ce5fe88"
      },
      "outputs": [],
      "source": [
        "from IPython.display import Image, display\n",
        "import glob\n",
        "\n",
        "detected_results_dir = '/content/yolov5/runs/detect/test_inference/exp'\n",
        "detected_image_files = glob.glob(os.path.join(detected_results_dir, '*.jpg'))\n",
        "print(f\"Found {len(detected_image_files)} detected result images.\")\n",
        "\n",
        "for img_path in detected_image_files[:5]:\n",
        "    display(Image(filename=img_path))"
      ]
    },
    {
      "cell_type": "markdown",
      "id": "168ea5c231fc0719",
      "metadata": {
        "id": "168ea5c231fc0719"
      },
      "source": [
        "## Step 8: Tips for Improvement & Next Steps\n",
        "\n",
        "1. Use data augmentation (e.g., Albumentations) to further increase training diversity.\n",
        "2. Experiment with longer training and hyperparameter tuning (e.g., learning rate, batch size, mosaic augmentation).\n",
        "3. Consider integrating the trained model with live camera feeds for real-time monitoring.\n",
        "4. Analyze incorrect predictions to iterate on model improvements.\n",
        "\n",
        "Happy Coding and Stay Safe on Site!"
      ]
    }
  ],
  "metadata": {
    "kernelspec": {
      "display_name": "Python 3",
      "name": "python3"
    },
    "language_info": {
      "codemirror_mode": {
        "name": "ipython",
        "version": 3
      },
      "file_extension": ".py",
      "mimetype": "text/x-python",
      "name": "python",
      "nbconvert_exporter": "python",
      "pygments_lexer": "ipython3",
      "version": "3.8.8"
    },
    "colab": {
      "provenance": [],
      "gpuType": "T4"
    },
    "accelerator": "GPU"
  },
  "nbformat": 4,
  "nbformat_minor": 5
}